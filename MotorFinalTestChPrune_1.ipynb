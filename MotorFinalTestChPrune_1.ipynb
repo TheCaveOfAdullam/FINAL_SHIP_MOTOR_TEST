{
  "nbformat": 4,
  "nbformat_minor": 0,
  "metadata": {
    "colab": {
      "provenance": [],
      "gpuType": "T4",
      "authorship_tag": "ABX9TyMB9D9d9dIdpQyFcOORhtxg",
      "include_colab_link": true
    },
    "kernelspec": {
      "name": "python3",
      "display_name": "Python 3"
    },
    "language_info": {
      "name": "python"
    },
    "accelerator": "GPU"
  },
  "cells": [
    {
      "cell_type": "markdown",
      "metadata": {
        "id": "view-in-github",
        "colab_type": "text"
      },
      "source": [
        "<a href=\"https://colab.research.google.com/github/TheCaveOfAdullam/FINAL_SHIP_MOTOR_TEST/blob/main/MotorFinalTestChPrune_1.ipynb\" target=\"_parent\"><img src=\"https://colab.research.google.com/assets/colab-badge.svg\" alt=\"Open In Colab\"/></a>"
      ]
    },
    {
      "cell_type": "code",
      "execution_count": 1,
      "metadata": {
        "colab": {
          "base_uri": "https://localhost:8080/"
        },
        "id": "PNOsaMQugszx",
        "outputId": "b447b68b-d8b2-4f39-acf4-9ea999f16643"
      },
      "outputs": [
        {
          "output_type": "stream",
          "name": "stdout",
          "text": [
            "Mounted at /content/drive\n"
          ]
        }
      ],
      "source": [
        "from google.colab import drive\n",
        "drive.mount('/content/drive')"
      ]
    },
    {
      "cell_type": "code",
      "source": [
        "!pip install torch_pruning\n",
        "!pip install ptflops\n",
        "!pip install fvcore"
      ],
      "metadata": {
        "colab": {
          "base_uri": "https://localhost:8080/"
        },
        "id": "zyrGPsBygtY2",
        "outputId": "afd50a82-4542-4c4c-ab77-810377f6eb87"
      },
      "execution_count": 2,
      "outputs": [
        {
          "output_type": "stream",
          "name": "stdout",
          "text": [
            "Collecting torch_pruning\n",
            "  Downloading torch_pruning-1.5.0-py3-none-any.whl.metadata (29 kB)\n",
            "Requirement already satisfied: torch in /usr/local/lib/python3.10/dist-packages (from torch_pruning) (2.5.1+cu121)\n",
            "Requirement already satisfied: numpy in /usr/local/lib/python3.10/dist-packages (from torch_pruning) (1.26.4)\n",
            "Requirement already satisfied: filelock in /usr/local/lib/python3.10/dist-packages (from torch->torch_pruning) (3.16.1)\n",
            "Requirement already satisfied: typing-extensions>=4.8.0 in /usr/local/lib/python3.10/dist-packages (from torch->torch_pruning) (4.12.2)\n",
            "Requirement already satisfied: networkx in /usr/local/lib/python3.10/dist-packages (from torch->torch_pruning) (3.4.2)\n",
            "Requirement already satisfied: jinja2 in /usr/local/lib/python3.10/dist-packages (from torch->torch_pruning) (3.1.4)\n",
            "Requirement already satisfied: fsspec in /usr/local/lib/python3.10/dist-packages (from torch->torch_pruning) (2024.10.0)\n",
            "Requirement already satisfied: sympy==1.13.1 in /usr/local/lib/python3.10/dist-packages (from torch->torch_pruning) (1.13.1)\n",
            "Requirement already satisfied: mpmath<1.4,>=1.1.0 in /usr/local/lib/python3.10/dist-packages (from sympy==1.13.1->torch->torch_pruning) (1.3.0)\n",
            "Requirement already satisfied: MarkupSafe>=2.0 in /usr/local/lib/python3.10/dist-packages (from jinja2->torch->torch_pruning) (3.0.2)\n",
            "Downloading torch_pruning-1.5.0-py3-none-any.whl (63 kB)\n",
            "\u001b[?25l   \u001b[90m━━━━━━━━━━━━━━━━━━━━━━━━━━━━━━━━━━━━━━━━\u001b[0m \u001b[32m0.0/63.7 kB\u001b[0m \u001b[31m?\u001b[0m eta \u001b[36m-:--:--\u001b[0m\r\u001b[2K   \u001b[90m━━━━━━━━━━━━━━━━━━━━━━━━━━━━━━━━━━━━━━━━\u001b[0m \u001b[32m63.7/63.7 kB\u001b[0m \u001b[31m5.6 MB/s\u001b[0m eta \u001b[36m0:00:00\u001b[0m\n",
            "\u001b[?25hInstalling collected packages: torch_pruning\n",
            "Successfully installed torch_pruning-1.5.0\n",
            "Collecting ptflops\n",
            "  Downloading ptflops-0.7.4-py3-none-any.whl.metadata (9.4 kB)\n",
            "Requirement already satisfied: torch>=2.0 in /usr/local/lib/python3.10/dist-packages (from ptflops) (2.5.1+cu121)\n",
            "Requirement already satisfied: filelock in /usr/local/lib/python3.10/dist-packages (from torch>=2.0->ptflops) (3.16.1)\n",
            "Requirement already satisfied: typing-extensions>=4.8.0 in /usr/local/lib/python3.10/dist-packages (from torch>=2.0->ptflops) (4.12.2)\n",
            "Requirement already satisfied: networkx in /usr/local/lib/python3.10/dist-packages (from torch>=2.0->ptflops) (3.4.2)\n",
            "Requirement already satisfied: jinja2 in /usr/local/lib/python3.10/dist-packages (from torch>=2.0->ptflops) (3.1.4)\n",
            "Requirement already satisfied: fsspec in /usr/local/lib/python3.10/dist-packages (from torch>=2.0->ptflops) (2024.10.0)\n",
            "Requirement already satisfied: sympy==1.13.1 in /usr/local/lib/python3.10/dist-packages (from torch>=2.0->ptflops) (1.13.1)\n",
            "Requirement already satisfied: mpmath<1.4,>=1.1.0 in /usr/local/lib/python3.10/dist-packages (from sympy==1.13.1->torch>=2.0->ptflops) (1.3.0)\n",
            "Requirement already satisfied: MarkupSafe>=2.0 in /usr/local/lib/python3.10/dist-packages (from jinja2->torch>=2.0->ptflops) (3.0.2)\n",
            "Downloading ptflops-0.7.4-py3-none-any.whl (19 kB)\n",
            "Installing collected packages: ptflops\n",
            "Successfully installed ptflops-0.7.4\n",
            "Collecting fvcore\n",
            "  Downloading fvcore-0.1.5.post20221221.tar.gz (50 kB)\n",
            "\u001b[2K     \u001b[90m━━━━━━━━━━━━━━━━━━━━━━━━━━━━━━━━━━━━━━━━\u001b[0m \u001b[32m50.2/50.2 kB\u001b[0m \u001b[31m3.9 MB/s\u001b[0m eta \u001b[36m0:00:00\u001b[0m\n",
            "\u001b[?25h  Preparing metadata (setup.py) ... \u001b[?25l\u001b[?25hdone\n",
            "Requirement already satisfied: numpy in /usr/local/lib/python3.10/dist-packages (from fvcore) (1.26.4)\n",
            "Collecting yacs>=0.1.6 (from fvcore)\n",
            "  Downloading yacs-0.1.8-py3-none-any.whl.metadata (639 bytes)\n",
            "Requirement already satisfied: pyyaml>=5.1 in /usr/local/lib/python3.10/dist-packages (from fvcore) (6.0.2)\n",
            "Requirement already satisfied: tqdm in /usr/local/lib/python3.10/dist-packages (from fvcore) (4.66.6)\n",
            "Requirement already satisfied: termcolor>=1.1 in /usr/local/lib/python3.10/dist-packages (from fvcore) (2.5.0)\n",
            "Requirement already satisfied: Pillow in /usr/local/lib/python3.10/dist-packages (from fvcore) (11.0.0)\n",
            "Requirement already satisfied: tabulate in /usr/local/lib/python3.10/dist-packages (from fvcore) (0.9.0)\n",
            "Collecting iopath>=0.1.7 (from fvcore)\n",
            "  Downloading iopath-0.1.10.tar.gz (42 kB)\n",
            "\u001b[2K     \u001b[90m━━━━━━━━━━━━━━━━━━━━━━━━━━━━━━━━━━━━━━━━\u001b[0m \u001b[32m42.2/42.2 kB\u001b[0m \u001b[31m3.8 MB/s\u001b[0m eta \u001b[36m0:00:00\u001b[0m\n",
            "\u001b[?25h  Preparing metadata (setup.py) ... \u001b[?25l\u001b[?25hdone\n",
            "Requirement already satisfied: typing_extensions in /usr/local/lib/python3.10/dist-packages (from iopath>=0.1.7->fvcore) (4.12.2)\n",
            "Collecting portalocker (from iopath>=0.1.7->fvcore)\n",
            "  Downloading portalocker-3.0.0-py3-none-any.whl.metadata (8.5 kB)\n",
            "Downloading yacs-0.1.8-py3-none-any.whl (14 kB)\n",
            "Downloading portalocker-3.0.0-py3-none-any.whl (19 kB)\n",
            "Building wheels for collected packages: fvcore, iopath\n",
            "  Building wheel for fvcore (setup.py) ... \u001b[?25l\u001b[?25hdone\n",
            "  Created wheel for fvcore: filename=fvcore-0.1.5.post20221221-py3-none-any.whl size=61396 sha256=078b466f08d888db72808b043dc3d5aaea8ba3ee5babc032905ffe1f28521cc4\n",
            "  Stored in directory: /root/.cache/pip/wheels/01/c0/af/77c1cf53a1be9e42a52b48e5af2169d40ec2e89f7362489dd0\n",
            "  Building wheel for iopath (setup.py) ... \u001b[?25l\u001b[?25hdone\n",
            "  Created wheel for iopath: filename=iopath-0.1.10-py3-none-any.whl size=31528 sha256=a6e92a9c5f5b00472d64947b7f91b07a1b34d7dff03f8cda4b035c43901564b8\n",
            "  Stored in directory: /root/.cache/pip/wheels/9a/a3/b6/ac0fcd1b4ed5cfeb3db92e6a0e476cfd48ed0df92b91080c1d\n",
            "Successfully built fvcore iopath\n",
            "Installing collected packages: yacs, portalocker, iopath, fvcore\n",
            "Successfully installed fvcore-0.1.5.post20221221 iopath-0.1.10 portalocker-3.0.0 yacs-0.1.8\n"
          ]
        }
      ]
    },
    {
      "cell_type": "code",
      "source": [
        "import os\n",
        "import numpy as np\n",
        "import pandas as pd\n",
        "from collections import defaultdict\n",
        "from sklearn.preprocessing import LabelEncoder\n",
        "from torch.utils.data import Dataset, DataLoader\n",
        "import torch\n",
        "import torch.nn as nn\n",
        "import torch.optim as optim\n",
        "import torch_pruning as tp\n",
        "import random\n",
        "from tqdm import tqdm\n",
        "import matplotlib.pyplot as plt\n",
        "from sklearn.metrics import f1_score, confusion_matrix\n",
        "import seaborn as sns\n",
        "import time"
      ],
      "metadata": {
        "id": "72sQLjxTgtbk"
      },
      "execution_count": 3,
      "outputs": []
    },
    {
      "cell_type": "code",
      "source": [
        "seed = 71\n",
        "torch.manual_seed(seed)\n",
        "torch.cuda.manual_seed_all(seed)  # GPU 사용 시\n",
        "np.random.seed(seed)\n",
        "random.seed(seed)\n",
        "\n",
        "torch.backends.cudnn.deterministic = True\n",
        "torch.backends.cudnn.benchmark = False"
      ],
      "metadata": {
        "id": "a-0kSbQ7gtd8"
      },
      "execution_count": 4,
      "outputs": []
    },
    {
      "cell_type": "code",
      "source": [
        "# 기본 경로 설정\n",
        "base_dir = '/content/drive/MyDrive/ship_motor30'\n",
        "categories = ['normal', 'fault_BB', 'fault_RI', 'fault_SM']\n",
        "device = torch.device(\"cuda\" if torch.cuda.is_available() else \"cpu\")\n",
        "\n",
        "# 데이터 로드 및 전처리\n",
        "class VibrationDataset(Dataset):\n",
        "    def __init__(self, base_dir, split, categories, label_encoder, segment_length=4000, transform=None):\n",
        "        self.X = []\n",
        "        self.y = []\n",
        "        self.transform = transform\n",
        "        self.segment_length = segment_length\n",
        "        self.file_count = defaultdict(int)\n",
        "\n",
        "        split_dir = os.path.join(base_dir, split)\n",
        "        for category in categories:\n",
        "            category_dir = os.path.join(split_dir, category)\n",
        "            files = os.listdir(category_dir)\n",
        "            self.file_count[category] = len(files)\n",
        "\n",
        "            for file in files:\n",
        "                file_path = os.path.join(category_dir, file)\n",
        "                data = pd.read_csv(file_path, header=None, skiprows=1)\n",
        "                frequency_data = data.iloc[:, 1:].apply(pd.to_numeric, errors='coerce').fillna(0).values\n",
        "                num_segments = frequency_data.shape[0] // self.segment_length\n",
        "                for i in range(num_segments):\n",
        "                    segment = frequency_data[i * self.segment_length:(i + 1) * self.segment_length]\n",
        "                    self.X.append(segment)\n",
        "                    self.y.append(label_encoder.transform([category])[0])\n",
        "\n",
        "        print(f\"File count for '{split}' split:\")\n",
        "        for category, count in self.file_count.items():\n",
        "            print(f\"  {category}: {count} files\")\n",
        "\n",
        "    def __len__(self):\n",
        "        return len(self.X)\n",
        "\n",
        "    def __getitem__(self, idx):\n",
        "        X = self.X[idx].T\n",
        "        y = self.y[idx]\n",
        "        return torch.tensor(X, dtype=torch.float32), torch.tensor(y, dtype=torch.long)\n",
        "\n",
        "# 레이블 인코딩\n",
        "label_encoder = LabelEncoder()\n",
        "label_encoder.fit(categories)\n",
        "\n",
        "# 데이터셋 준비\n",
        "train_dataset = VibrationDataset(base_dir, 'train', categories, label_encoder)\n",
        "val_dataset = VibrationDataset(base_dir, 'validation', categories, label_encoder)\n",
        "test_dataset = VibrationDataset(base_dir, 'test', categories, label_encoder)\n",
        "\n",
        "batch_size = 32\n",
        "train_loader = DataLoader(train_dataset, batch_size=batch_size, shuffle=True)\n",
        "val_loader = DataLoader(val_dataset, batch_size=batch_size, shuffle=False)\n",
        "test_loader = DataLoader(test_dataset, batch_size=batch_size, shuffle=False)\n",
        "\n",
        "first_sample, _ = train_dataset[0]\n",
        "input_length = first_sample.shape[1]\n",
        "print(f\"Input length for one sample: {input_length}\")"
      ],
      "metadata": {
        "colab": {
          "base_uri": "https://localhost:8080/"
        },
        "id": "Gga7SkBEgtgc",
        "outputId": "186fa173-86ce-4ec6-9b5f-a20b9dd880bc"
      },
      "execution_count": 5,
      "outputs": [
        {
          "output_type": "stream",
          "name": "stdout",
          "text": [
            "File count for 'train' split:\n",
            "  normal: 2100 files\n",
            "  fault_BB: 2100 files\n",
            "  fault_RI: 2100 files\n",
            "  fault_SM: 2100 files\n",
            "File count for 'validation' split:\n",
            "  normal: 450 files\n",
            "  fault_BB: 450 files\n",
            "  fault_RI: 450 files\n",
            "  fault_SM: 450 files\n",
            "File count for 'test' split:\n",
            "  normal: 450 files\n",
            "  fault_BB: 450 files\n",
            "  fault_RI: 450 files\n",
            "  fault_SM: 450 files\n",
            "Input length for one sample: 4000\n"
          ]
        }
      ]
    },
    {
      "cell_type": "code",
      "source": [
        "# CNN 모델 정의\n",
        "class CNNModel(nn.Module):\n",
        "    def __init__(self, input_length):\n",
        "        super(CNNModel, self).__init__()\n",
        "        self.conv1 = nn.Conv1d(in_channels=1, out_channels=64, kernel_size=16, stride=16)\n",
        "        self.pool1 = nn.MaxPool1d(kernel_size=2, stride=2)\n",
        "        self.conv2 = nn.Conv1d(in_channels=64, out_channels=32, kernel_size=3, stride=1)\n",
        "        self.conv3 = nn.Conv1d(in_channels=32, out_channels=64, kernel_size=5, stride=1)\n",
        "        self.conv4 = nn.Conv1d(in_channels=64, out_channels=128, kernel_size=5, stride=1)\n",
        "        self.pool2 = nn.MaxPool1d(kernel_size=2, stride=2)\n",
        "\n",
        "        with torch.no_grad():\n",
        "            sample_input = torch.zeros(1, 1, input_length)\n",
        "            sample_output = self.forward_conv_layers(sample_input)\n",
        "            conv_output_size = sample_output.size(1) * sample_output.size(2)\n",
        "\n",
        "        self.fc1 = nn.Linear(conv_output_size, 5000)\n",
        "        self.fc2 = nn.Linear(5000, 1000)\n",
        "        self.fc3 = nn.Linear(1000, len(categories))\n",
        "\n",
        "    def forward_conv_layers(self, x):\n",
        "        x = self.pool1(torch.relu(self.conv1(x)))\n",
        "        x = torch.relu(self.conv2(x))\n",
        "        x = torch.relu(self.conv3(x))\n",
        "        x = self.pool2(torch.relu(self.conv4(x)))\n",
        "        return x\n",
        "\n",
        "    def forward(self, x):\n",
        "        x = self.forward_conv_layers(x)\n",
        "        x = x.view(x.size(0), -1)\n",
        "        x = torch.relu(self.fc1(x))\n",
        "        x = torch.relu(self.fc2(x))\n",
        "        x = self.fc3(x)\n",
        "        return x"
      ],
      "metadata": {
        "id": "3QfhkOqlgti3"
      },
      "execution_count": 6,
      "outputs": []
    },
    {
      "cell_type": "code",
      "source": [
        "# 모델 학습 함수 (학습 곡선 기록 추가)\n",
        "def train_model(model, train_loader, val_loader, criterion, optimizer, num_epochs=5, max_norm=1.0):\n",
        "    model.to(device)\n",
        "\n",
        "    train_losses = []\n",
        "    val_losses = []\n",
        "    train_accuracies = []\n",
        "    val_accuracies = []\n",
        "\n",
        "    for epoch in range(num_epochs):\n",
        "        model.train()\n",
        "        running_loss = 0.0\n",
        "        correct = 0\n",
        "        total = 0\n",
        "\n",
        "        train_loader_iter = tqdm(train_loader, desc=f\"Epoch {epoch+1}/{num_epochs}\", unit=\"batch\")\n",
        "\n",
        "        for inputs, labels in train_loader_iter:\n",
        "            inputs, labels = inputs.to(device), labels.to(device)\n",
        "            optimizer.zero_grad()\n",
        "            outputs = model(inputs)\n",
        "            loss = criterion(outputs, labels)\n",
        "            loss.backward()\n",
        "\n",
        "            # Gradient clipping\n",
        "            torch.nn.utils.clip_grad_norm_(model.parameters(), max_norm)\n",
        "            optimizer.step()\n",
        "\n",
        "            running_loss += loss.item()\n",
        "            _, predicted = torch.max(outputs, 1)\n",
        "            total += labels.size(0)\n",
        "            correct += (predicted == labels).sum().item()\n",
        "            train_loader_iter.set_postfix(loss=loss.item(), accuracy=100 * correct / total)\n",
        "\n",
        "        train_loss = running_loss / len(train_loader)\n",
        "        train_accuracy = 100 * correct / total\n",
        "        train_losses.append(train_loss)\n",
        "        train_accuracies.append(train_accuracy)\n",
        "\n",
        "        val_loss, val_accuracy = evaluate_model(model, val_loader, criterion)\n",
        "        val_losses.append(val_loss)\n",
        "        val_accuracies.append(val_accuracy)\n",
        "\n",
        "        print(f'Epoch [{epoch+1}/{num_epochs}], Loss: {train_loss:.4f}, Accuracy: {train_accuracy:.2f}%, '\n",
        "              f'Val Loss: {val_loss:.4f}, Val Accuracy: {val_accuracy:.2f}%')\n",
        "\n",
        "    # 학습 곡선 시각화\n",
        "    plt.figure(figsize=(12, 5))\n",
        "    plt.subplot(1, 2, 1)\n",
        "    plt.plot(range(1, num_epochs + 1), train_losses, label='Train Loss')\n",
        "    plt.plot(range(1, num_epochs + 1), val_losses, label='Validation Loss')\n",
        "    plt.xlabel('Epochs')\n",
        "    plt.ylabel('Loss')\n",
        "    plt.title('Training and Validation Loss')\n",
        "    plt.legend()\n",
        "\n",
        "    plt.subplot(1, 2, 2)\n",
        "    plt.plot(range(1, num_epochs + 1), train_accuracies, label='Train Accuracy')\n",
        "    plt.plot(range(1, num_epochs + 1), val_accuracies, label='Validation Accuracy')\n",
        "    plt.xlabel('Epochs')\n",
        "    plt.ylabel('Accuracy (%)')\n",
        "    plt.title('Training and Validation Accuracy')\n",
        "    plt.legend()\n",
        "\n",
        "    plt.show()\n",
        "\n",
        "    return model\n",
        "\n",
        "# 모델 평가 함수\n",
        "def evaluate_model(model, loader, criterion):\n",
        "    model.eval()\n",
        "    val_loss = 0.0\n",
        "    correct = 0\n",
        "    total = 0\n",
        "    with torch.no_grad():\n",
        "        for inputs, labels in loader:\n",
        "            inputs, labels = inputs.to(device), labels.to(device)\n",
        "            outputs = model(inputs)\n",
        "            loss = criterion(outputs, labels)\n",
        "            val_loss += loss.item()  # 배치 손실의 합\n",
        "            _, predicted = torch.max(outputs, 1)\n",
        "            total += labels.size(0)\n",
        "            correct += (predicted == labels).sum().item()\n",
        "\n",
        "    # 평균 손실은 배치 개수로 나눔\n",
        "    average_val_loss = val_loss / len(loader)  # len(loader)는 배치 개수\n",
        "    val_accuracy = 100 * correct / total\n",
        "\n",
        "    return average_val_loss, val_accuracy"
      ],
      "metadata": {
        "id": "TZ_RU6_eiD3X"
      },
      "execution_count": 7,
      "outputs": []
    },
    {
      "cell_type": "code",
      "source": [
        "def calculate_mean_gradients(model, dataloader, device, criterion):\n",
        "    mean_gradients = {}\n",
        "    model.train()  # 기울기 계산을 위해 train 모드로 설정\n",
        "\n",
        "    for name, module in model.named_modules():\n",
        "        if isinstance(module, nn.Conv1d):\n",
        "            # 기울기를 저장할 리스트 초기화\n",
        "            channel_gradients = []\n",
        "\n",
        "            def hook_fn(grad):\n",
        "                # 채널별로 기울기의 절댓값 평균을 계산하여 저장\n",
        "                grad = grad.detach().cpu().numpy()\n",
        "                channel_mean_grad = np.mean(np.abs(grad), axis=(1, 2))\n",
        "                channel_gradients.append(channel_mean_grad)\n",
        "\n",
        "            # 가중치에 대한 hook 등록\n",
        "            hook = module.weight.register_hook(hook_fn)\n",
        "\n",
        "            # 데이터셋에 대한 순전파 및 역전파 수행\n",
        "            for inputs, targets in dataloader:\n",
        "                inputs, targets = inputs.to(device), targets.to(device)\n",
        "                model.zero_grad()\n",
        "                outputs = model(inputs)\n",
        "                loss = criterion(outputs, targets)\n",
        "                loss.backward()\n",
        "\n",
        "            # hook 제거\n",
        "            hook.remove()\n",
        "\n",
        "            # 채널별 평균 기울기 계산\n",
        "            mean_gradient = np.mean(channel_gradients, axis=0)\n",
        "            mean_gradients[name] = mean_gradient\n",
        "\n",
        "    return mean_gradients"
      ],
      "metadata": {
        "id": "esLH0HhMgtlO"
      },
      "execution_count": 8,
      "outputs": []
    },
    {
      "cell_type": "code",
      "source": [
        "def prune_model_based_on_mean_gradient(model, mean_gradients, prune_ratio=0.2, example_inputs=None):\n",
        "    device = next(model.parameters()).device\n",
        "    if example_inputs is None:\n",
        "        example_inputs = torch.randn(1, 1, input_length).to(device)  # 입력 채널을 1로 설정\n",
        "\n",
        "    DG = tp.DependencyGraph().build_dependency(model, example_inputs=example_inputs)\n",
        "    total_pruned = 0\n",
        "\n",
        "    for name, module in model.named_modules():\n",
        "        if isinstance(module, nn.Conv1d):\n",
        "            # 출력 레이어는 프루닝 대상에서 제외 (필요에 따라 수정)\n",
        "            if name == 'fc3':\n",
        "                print(f\"Skipping pruning for {name} (output layer).\")\n",
        "                continue\n",
        "\n",
        "            # 채널별 Mean Gradient 가져오기\n",
        "            if name in mean_gradients:\n",
        "                channel_mean_grad = mean_gradients[name]\n",
        "            else:\n",
        "                continue  # 해당 레이어의 기울기를 계산하지 않았다면 스킵\n",
        "\n",
        "            # 프루닝할 채널 수 계산\n",
        "            num_channels = len(channel_mean_grad)\n",
        "            num_prune = int(num_channels * prune_ratio)\n",
        "            if num_prune < 1:\n",
        "                continue  # 프루닝할 채널이 없으면 스킵\n",
        "\n",
        "            # 중요도가 낮은 채널의 인덱스 선택\n",
        "            prune_indices = np.argsort(channel_mean_grad)[:num_prune]\n",
        "\n",
        "            # 프루닝 대상 채널 제거\n",
        "            if len(prune_indices) > 0 and len(prune_indices) < num_channels:\n",
        "                pruning_group = DG.get_pruning_group(module, tp.prune_conv_out_channels, idxs=prune_indices)\n",
        "\n",
        "                if DG.check_pruning_group(pruning_group):\n",
        "                    pruning_group.prune()\n",
        "                    total_pruned += len(prune_indices)\n",
        "                    print(f\"Pruned {len(prune_indices)} channels from {name}.\")\n",
        "                else:\n",
        "                    print(f\"Cannot prune {name} due to dependency constraints.\")\n",
        "            else:\n",
        "                print(f\"Skipping pruning for {name} as it would remove all channels.\")\n",
        "\n",
        "    print(f\"Mean Gradient-based pruning applied. {total_pruned} channels pruned in total.\")\n",
        "    return model"
      ],
      "metadata": {
        "id": "Im39-RYvgtns"
      },
      "execution_count": 9,
      "outputs": []
    },
    {
      "cell_type": "code",
      "source": [
        "# 모델 초기화 및 학습 설정\n",
        "model = CNNModel(input_length=input_length)\n",
        "criterion = nn.CrossEntropyLoss()\n",
        "optimizer = optim.Adam(model.parameters(), lr=0.00001, weight_decay=1e-5)"
      ],
      "metadata": {
        "id": "9lCPOxjjgtqN"
      },
      "execution_count": 10,
      "outputs": []
    },
    {
      "cell_type": "code",
      "source": [
        "train_model(model, train_loader, val_loader, criterion, optimizer, num_epochs=5)"
      ],
      "metadata": {
        "colab": {
          "base_uri": "https://localhost:8080/",
          "height": 866
        },
        "id": "9BLt3IgAvyLC",
        "outputId": "2b45ce65-b888-40b9-b0bf-9fc8cf5e7379"
      },
      "execution_count": 11,
      "outputs": [
        {
          "output_type": "stream",
          "name": "stderr",
          "text": [
            "Epoch 1/5: 100%|██████████| 788/788 [00:30<00:00, 26.07batch/s, accuracy=25.2, loss=1.38]\n"
          ]
        },
        {
          "output_type": "stream",
          "name": "stdout",
          "text": [
            "Epoch [1/5], Loss: 1.3864, Accuracy: 25.18%, Val Loss: 1.3858, Val Accuracy: 25.00%\n"
          ]
        },
        {
          "output_type": "stream",
          "name": "stderr",
          "text": [
            "Epoch 2/5: 100%|██████████| 788/788 [00:28<00:00, 27.79batch/s, accuracy=37.6, loss=1.19]\n"
          ]
        },
        {
          "output_type": "stream",
          "name": "stdout",
          "text": [
            "Epoch [2/5], Loss: 1.3606, Accuracy: 37.58%, Val Loss: 1.2395, Val Accuracy: 50.69%\n"
          ]
        },
        {
          "output_type": "stream",
          "name": "stderr",
          "text": [
            "Epoch 3/5: 100%|██████████| 788/788 [00:28<00:00, 27.93batch/s, accuracy=58, loss=0.535]\n"
          ]
        },
        {
          "output_type": "stream",
          "name": "stdout",
          "text": [
            "Epoch [3/5], Loss: 0.9532, Accuracy: 57.97%, Val Loss: 0.7642, Val Accuracy: 81.11%\n"
          ]
        },
        {
          "output_type": "stream",
          "name": "stderr",
          "text": [
            "Epoch 4/5: 100%|██████████| 788/788 [00:28<00:00, 27.57batch/s, accuracy=79.6, loss=0.546]\n"
          ]
        },
        {
          "output_type": "stream",
          "name": "stdout",
          "text": [
            "Epoch [4/5], Loss: 0.7031, Accuracy: 79.63%, Val Loss: 0.6227, Val Accuracy: 85.48%\n"
          ]
        },
        {
          "output_type": "stream",
          "name": "stderr",
          "text": [
            "Epoch 5/5: 100%|██████████| 788/788 [00:28<00:00, 27.51batch/s, accuracy=84.4, loss=0.409]\n"
          ]
        },
        {
          "output_type": "stream",
          "name": "stdout",
          "text": [
            "Epoch [5/5], Loss: 0.5702, Accuracy: 84.41%, Val Loss: 0.4804, Val Accuracy: 89.09%\n"
          ]
        },
        {
          "output_type": "display_data",
          "data": {
            "text/plain": [
              "<Figure size 1200x500 with 2 Axes>"
            ],
            "image/png": "[encoded data removed]"
          },
          "metadata": {}
        },
        {
          "output_type": "execute_result",
          "data": {
            "text/plain": [
              "CNNModel(\n",
              "  (conv1): Conv1d(1, 64, kernel_size=(16,), stride=(16,))\n",
              "  (pool1): MaxPool1d(kernel_size=2, stride=2, padding=0, dilation=1, ceil_mode=False)\n",
              "  (conv2): Conv1d(64, 32, kernel_size=(3,), stride=(1,))\n",
              "  (conv3): Conv1d(32, 64, kernel_size=(5,), stride=(1,))\n",
              "  (conv4): Conv1d(64, 128, kernel_size=(5,), stride=(1,))\n",
              "  (pool2): MaxPool1d(kernel_size=2, stride=2, padding=0, dilation=1, ceil_mode=False)\n",
              "  (fc1): Linear(in_features=7296, out_features=5000, bias=True)\n",
              "  (fc2): Linear(in_features=5000, out_features=1000, bias=True)\n",
              "  (fc3): Linear(in_features=1000, out_features=4, bias=True)\n",
              ")"
            ]
          },
          "metadata": {},
          "execution_count": 11
        }
      ]
    },
    {
      "cell_type": "code",
      "source": [
        "# Mean Gradient 계산\n",
        "mean_gradients = calculate_mean_gradients(model, train_loader, device, criterion)"
      ],
      "metadata": {
        "id": "_50_uNRJv0M6"
      },
      "execution_count": 12,
      "outputs": []
    },
    {
      "cell_type": "code",
      "source": [
        "# 입력 예제 생성 (입력 채널 수와 길이에 맞게 수정)\n",
        "input_channels = 1  # 모델의 입력 채널 수에 맞게 설정\n",
        "input_length = 4000  # 입력 데이터의 길이에 맞게 설정\n",
        "example_inputs = torch.randn(1, input_channels, input_length).to(device)"
      ],
      "metadata": {
        "id": "ChX42lAYgtx1"
      },
      "execution_count": 13,
      "outputs": []
    },
    {
      "cell_type": "code",
      "source": [
        "# 모델 프루닝\n",
        "prune_ratio = 0.92  # 프루닝할 비율 (예: 20%)\n",
        "model = prune_model_based_on_mean_gradient(model, mean_gradients, prune_ratio, example_inputs)"
      ],
      "metadata": {
        "colab": {
          "base_uri": "https://localhost:8080/"
        },
        "id": "fOQBv1ZOgt0d",
        "outputId": "b314a482-df3e-4e1d-db63-0784d6bf1b09"
      },
      "execution_count": 14,
      "outputs": [
        {
          "output_type": "stream",
          "name": "stdout",
          "text": [
            "Pruned 58 channels from conv1.\n",
            "Pruned 29 channels from conv2.\n",
            "Pruned 58 channels from conv3.\n",
            "Pruned 117 channels from conv4.\n",
            "Mean Gradient-based pruning applied. 262 channels pruned in total.\n"
          ]
        }
      ]
    },
    {
      "cell_type": "code",
      "source": [
        "# 프루닝 후 모델을 디바이스로 이동\n",
        "model.to(device)"
      ],
      "metadata": {
        "colab": {
          "base_uri": "https://localhost:8080/"
        },
        "id": "ebrMLSncgt5s",
        "outputId": "34f672e3-bf88-41ec-dda8-fa108763a889"
      },
      "execution_count": 15,
      "outputs": [
        {
          "output_type": "execute_result",
          "data": {
            "text/plain": [
              "CNNModel(\n",
              "  (conv1): Conv1d(1, 6, kernel_size=(16,), stride=(16,))\n",
              "  (pool1): MaxPool1d(kernel_size=2, stride=2, padding=0, dilation=1, ceil_mode=False)\n",
              "  (conv2): Conv1d(6, 3, kernel_size=(3,), stride=(1,))\n",
              "  (conv3): Conv1d(3, 6, kernel_size=(5,), stride=(1,))\n",
              "  (conv4): Conv1d(6, 11, kernel_size=(5,), stride=(1,))\n",
              "  (pool2): MaxPool1d(kernel_size=2, stride=2, padding=0, dilation=1, ceil_mode=False)\n",
              "  (fc1): Linear(in_features=627, out_features=5000, bias=True)\n",
              "  (fc2): Linear(in_features=5000, out_features=1000, bias=True)\n",
              "  (fc3): Linear(in_features=1000, out_features=4, bias=True)\n",
              ")"
            ]
          },
          "metadata": {},
          "execution_count": 15
        }
      ]
    },
    {
      "cell_type": "code",
      "source": [
        "# 옵티마이저 재설정\n",
        "optimizer = optim.Adam(model.parameters(), lr=0.00001, weight_decay=1e-5)"
      ],
      "metadata": {
        "id": "DWTEVi8Hgt8M"
      },
      "execution_count": 16,
      "outputs": []
    },
    {
      "cell_type": "code",
      "source": [
        "# 파인튜닝 실행\n",
        "train_model(model, train_loader, val_loader, criterion, optimizer, num_epochs=10)"
      ],
      "metadata": {
        "colab": {
          "base_uri": "https://localhost:8080/",
          "height": 1000
        },
        "id": "e2MJrWzNgt-x",
        "outputId": "4adb4342-1a61-4a7e-98b6-78a1113aa3d7"
      },
      "execution_count": 17,
      "outputs": [
        {
          "output_type": "stream",
          "name": "stderr",
          "text": [
            "Epoch 1/10: 100%|██████████| 788/788 [00:08<00:00, 95.25batch/s, accuracy=24.8, loss=1.39]\n"
          ]
        },
        {
          "output_type": "stream",
          "name": "stdout",
          "text": [
            "Epoch [1/10], Loss: 1.3874, Accuracy: 24.76%, Val Loss: 1.3864, Val Accuracy: 25.00%\n"
          ]
        },
        {
          "output_type": "stream",
          "name": "stderr",
          "text": [
            "Epoch 2/10: 100%|██████████| 788/788 [00:08<00:00, 89.87batch/s, accuracy=24.8, loss=1.39]\n"
          ]
        },
        {
          "output_type": "stream",
          "name": "stdout",
          "text": [
            "Epoch [2/10], Loss: 1.3867, Accuracy: 24.81%, Val Loss: 1.3864, Val Accuracy: 25.00%\n"
          ]
        },
        {
          "output_type": "stream",
          "name": "stderr",
          "text": [
            "Epoch 3/10: 100%|██████████| 788/788 [00:08<00:00, 90.38batch/s, accuracy=29.8, loss=1.38]\n"
          ]
        },
        {
          "output_type": "stream",
          "name": "stdout",
          "text": [
            "Epoch [3/10], Loss: 1.3832, Accuracy: 29.85%, Val Loss: 1.3789, Val Accuracy: 50.00%\n"
          ]
        },
        {
          "output_type": "stream",
          "name": "stderr",
          "text": [
            "Epoch 4/10: 100%|██████████| 788/788 [00:08<00:00, 94.91batch/s, accuracy=39.7, loss=1.35] \n"
          ]
        },
        {
          "output_type": "stream",
          "name": "stdout",
          "text": [
            "Epoch [4/10], Loss: 1.3711, Accuracy: 39.73%, Val Loss: 1.3501, Val Accuracy: 50.00%\n"
          ]
        },
        {
          "output_type": "stream",
          "name": "stderr",
          "text": [
            "Epoch 5/10: 100%|██████████| 788/788 [00:08<00:00, 88.35batch/s, accuracy=55.3, loss=1.21]\n"
          ]
        },
        {
          "output_type": "stream",
          "name": "stdout",
          "text": [
            "Epoch [5/10], Loss: 1.2986, Accuracy: 55.33%, Val Loss: 1.2255, Val Accuracy: 50.00%\n"
          ]
        },
        {
          "output_type": "stream",
          "name": "stderr",
          "text": [
            "Epoch 6/10: 100%|██████████| 788/788 [00:08<00:00, 87.93batch/s, accuracy=50.7, loss=1.16]\n"
          ]
        },
        {
          "output_type": "stream",
          "name": "stdout",
          "text": [
            "Epoch [6/10], Loss: 1.1365, Accuracy: 50.65%, Val Loss: 1.0301, Val Accuracy: 50.00%\n"
          ]
        },
        {
          "output_type": "stream",
          "name": "stderr",
          "text": [
            "Epoch 7/10: 100%|██████████| 788/788 [00:08<00:00, 89.44batch/s, accuracy=50.5, loss=0.871] \n"
          ]
        },
        {
          "output_type": "stream",
          "name": "stdout",
          "text": [
            "Epoch [7/10], Loss: 0.9328, Accuracy: 50.46%, Val Loss: 0.8478, Val Accuracy: 55.48%\n"
          ]
        },
        {
          "output_type": "stream",
          "name": "stderr",
          "text": [
            "Epoch 8/10: 100%|██████████| 788/788 [00:08<00:00, 91.87batch/s, accuracy=65.6, loss=0.816]\n"
          ]
        },
        {
          "output_type": "stream",
          "name": "stdout",
          "text": [
            "Epoch [8/10], Loss: 0.8068, Accuracy: 65.56%, Val Loss: 0.7703, Val Accuracy: 65.70%\n"
          ]
        },
        {
          "output_type": "stream",
          "name": "stderr",
          "text": [
            "Epoch 9/10: 100%|██████████| 788/788 [00:08<00:00, 93.95batch/s, accuracy=81.3, loss=0.729] \n"
          ]
        },
        {
          "output_type": "stream",
          "name": "stdout",
          "text": [
            "Epoch [9/10], Loss: 0.7300, Accuracy: 81.33%, Val Loss: 0.6879, Val Accuracy: 93.19%\n"
          ]
        },
        {
          "output_type": "stream",
          "name": "stderr",
          "text": [
            "Epoch 10/10: 100%|██████████| 788/788 [00:09<00:00, 87.42batch/s, accuracy=89.4, loss=0.571]\n"
          ]
        },
        {
          "output_type": "stream",
          "name": "stdout",
          "text": [
            "Epoch [10/10], Loss: 0.6569, Accuracy: 89.39%, Val Loss: 0.6216, Val Accuracy: 93.07%\n"
          ]
        },
        {
          "output_type": "display_data",
          "data": {
            "text/plain": [
              "<Figure size 1200x500 with 2 Axes>"
            ],
            "image/png": "[encoded data removed]"
          },
          "metadata": {}
        },
        {
          "output_type": "execute_result",
          "data": {
            "text/plain": [
              "CNNModel(\n",
              "  (conv1): Conv1d(1, 6, kernel_size=(16,), stride=(16,))\n",
              "  (pool1): MaxPool1d(kernel_size=2, stride=2, padding=0, dilation=1, ceil_mode=False)\n",
              "  (conv2): Conv1d(6, 3, kernel_size=(3,), stride=(1,))\n",
              "  (conv3): Conv1d(3, 6, kernel_size=(5,), stride=(1,))\n",
              "  (conv4): Conv1d(6, 11, kernel_size=(5,), stride=(1,))\n",
              "  (pool2): MaxPool1d(kernel_size=2, stride=2, padding=0, dilation=1, ceil_mode=False)\n",
              "  (fc1): Linear(in_features=627, out_features=5000, bias=True)\n",
              "  (fc2): Linear(in_features=5000, out_features=1000, bias=True)\n",
              "  (fc3): Linear(in_features=1000, out_features=4, bias=True)\n",
              ")"
            ]
          },
          "metadata": {},
          "execution_count": 17
        }
      ]
    },
    {
      "cell_type": "code",
      "source": [
        "# 최종 테스트 평가\n",
        "print(\"Final evaluation on the test set...\")\n",
        "test_loss, test_accuracy = evaluate_model(model, test_loader, criterion)\n",
        "print(f'Final Test Loss: {test_loss:.4f}, Final Test Accuracy: {test_accuracy:.2f}%')"
      ],
      "metadata": {
        "colab": {
          "base_uri": "https://localhost:8080/"
        },
        "id": "kFBzcHdoguBF",
        "outputId": "36f47d3e-484b-45ab-c8dd-666b18a46f32"
      },
      "execution_count": 18,
      "outputs": [
        {
          "output_type": "stream",
          "name": "stdout",
          "text": [
            "Final evaluation on the test set...\n",
            "Final Test Loss: 0.6287, Final Test Accuracy: 92.94%\n"
          ]
        }
      ]
    },
    {
      "cell_type": "code",
      "source": [
        "# 모델 평가 함수 (혼동 행렬 포함)\n",
        "def evaluate_model(model, loader, criterion):\n",
        "    model.eval()\n",
        "    val_loss = 0.0\n",
        "    correct = 0\n",
        "    total = 0\n",
        "    all_labels = []\n",
        "    all_predictions = []\n",
        "\n",
        "    with torch.no_grad():\n",
        "        for inputs, labels in loader:\n",
        "            inputs, labels = inputs.to(device), labels.to(device)\n",
        "            outputs = model(inputs)\n",
        "            loss = criterion(outputs, labels)\n",
        "            val_loss += loss.item()\n",
        "\n",
        "            _, predicted = torch.max(outputs, 1)\n",
        "            total += labels.size(0)\n",
        "            correct += (predicted == labels).sum().item()\n",
        "\n",
        "            all_labels.extend(labels.cpu().numpy())\n",
        "            all_predictions.extend(predicted.cpu().numpy())\n",
        "\n",
        "    # 혼동 행렬 계산\n",
        "    conf_matrix = confusion_matrix(all_labels, all_predictions)\n",
        "    accuracy = 100 * correct / total\n",
        "    return val_loss / total, accuracy, conf_matrix"
      ],
      "metadata": {
        "id": "nfinoKT6rQOB"
      },
      "execution_count": 19,
      "outputs": []
    },
    {
      "cell_type": "code",
      "source": [
        "# 혼동 행렬 시각화 함수\n",
        "def plot_confusion_matrix(conf_matrix, label_encoder):\n",
        "    categories = label_encoder.classes_  # LabelEncoder의 순서대로 클래스 레이블을 가져옴\n",
        "    plt.figure(figsize=(8, 6))\n",
        "    sns.heatmap(conf_matrix, annot=True, fmt=\"d\", cmap=\"Blues\", xticklabels=categories, yticklabels=categories)\n",
        "    plt.xlabel(\"Predicted Labels\")\n",
        "    plt.ylabel(\"True Labels\")\n",
        "    plt.title(\"Confusion Matrix\")\n",
        "    plt.show()\n",
        "\n",
        "# 평가 및 시각화 예시\n",
        "val_loss, val_accuracy, val_conf_matrix = evaluate_model(model, val_loader, criterion)\n",
        "print(f\"Validation Loss: {val_loss:.4f}\")\n",
        "print(f\"Validation Accuracy: {val_accuracy:.2f}%\")\n",
        "print(\"Confusion Matrix:\")\n",
        "print(val_conf_matrix)\n",
        "\n",
        "# 혼동 행렬 시각화\n",
        "plot_confusion_matrix(val_conf_matrix, label_encoder)"
      ],
      "metadata": {
        "colab": {
          "base_uri": "https://localhost:8080/",
          "height": 692
        },
        "id": "1qB7nsD-rQQr",
        "outputId": "b561cdaf-693a-40d0-b8a0-9ebeda66a221"
      },
      "execution_count": 20,
      "outputs": [
        {
          "output_type": "stream",
          "name": "stdout",
          "text": [
            "Validation Loss: 0.0195\n",
            "Validation Accuracy: 93.07%\n",
            "Confusion Matrix:\n",
            "[[1070    0   68  212]\n",
            " [   0 1350    0    0]\n",
            " [  94    0 1256    0]\n",
            " [   0    0    0 1350]]\n"
          ]
        },
        {
          "output_type": "display_data",
          "data": {
            "text/plain": [
              "<Figure size 800x600 with 2 Axes>"
            ],
            "image/png": "[encoded data removed]"
          },
          "metadata": {}
        }
      ]
    },
    {
      "cell_type": "code",
      "source": [
        "# 모델 크기 계산\n",
        "def get_model_size(model):\n",
        "    param_size = 0\n",
        "    for param in model.parameters():\n",
        "        param_size += param.nelement() * param.element_size()\n",
        "    buffer_size = 0\n",
        "    for buffer in model.buffers():\n",
        "        buffer_size += buffer.nelement() * buffer.element_size()\n",
        "    model_size = (param_size + buffer_size) / 1024**2  # Convert to MB\n",
        "    return model_size"
      ],
      "metadata": {
        "id": "8CSm88SxguDu"
      },
      "execution_count": 21,
      "outputs": []
    },
    {
      "cell_type": "code",
      "source": [
        "# 모델 크기 출력\n",
        "model_size = get_model_size(model)\n",
        "print(f'Model size: {model_size:.2f} MB')"
      ],
      "metadata": {
        "colab": {
          "base_uri": "https://localhost:8080/"
        },
        "id": "Y7XAcSPMhp0d",
        "outputId": "8f67e89d-ca4b-4867-c5f4-a7c895468f7c"
      },
      "execution_count": 22,
      "outputs": [
        {
          "output_type": "stream",
          "name": "stdout",
          "text": [
            "Model size: 31.07 MB\n"
          ]
        }
      ]
    },
    {
      "cell_type": "code",
      "source": [
        "# 비제로 가중치 계산 함수\n",
        "def count_nonzero_weights(model):\n",
        "    nonzero_count = 0\n",
        "    total_count = 0\n",
        "    for name, param in model.named_parameters():\n",
        "        if param.requires_grad:\n",
        "            nonzero_count += torch.sum(param != 0).item()\n",
        "            total_count += param.numel()\n",
        "    return nonzero_count, total_count"
      ],
      "metadata": {
        "id": "h3PXzHtIqyLZ"
      },
      "execution_count": 23,
      "outputs": []
    },
    {
      "cell_type": "code",
      "source": [
        "# 비제로 가중치 수 계산\n",
        "nonzero_weights, total_weights = count_nonzero_weights(model)\n",
        "print(f\"Number of non-zero weights: {nonzero_weights}\")\n",
        "print(f\"Total number of weights: {total_weights}\")\n",
        "print(f\"Percentage of non-zero weights: {100 * nonzero_weights / total_weights:.2f}%\")"
      ],
      "metadata": {
        "colab": {
          "base_uri": "https://localhost:8080/"
        },
        "id": "iK_Bj-qrhrHF",
        "outputId": "13e81370-68e8-46ad-bd67-9bff21ffcb3f"
      },
      "execution_count": 24,
      "outputs": [
        {
          "output_type": "stream",
          "name": "stdout",
          "text": [
            "Number of non-zero weights: 8145598\n",
            "Total number of weights: 8145600\n",
            "Percentage of non-zero weights: 100.00%\n"
          ]
        }
      ]
    },
    {
      "cell_type": "code",
      "source": [
        "from fvcore.nn import FlopCountAnalysis, flop_count_table\n",
        "\n",
        "# FLOPs 계산 함수\n",
        "def calculate_flops(model, input_size):\n",
        "    model.eval()  # 평가 모드로 전환\n",
        "    dummy_input = torch.randn(*input_size).to(device)  # 가짜 입력 생성\n",
        "    flops = FlopCountAnalysis(model, dummy_input)\n",
        "    return flops\n",
        "\n",
        "# 입력 크기 정의 (배치 크기, 채널, 길이)\n",
        "input_size = (1, 1, input_length)  # 배치 크기 1, 채널 1, input_length 사용\n",
        "\n",
        "# FLOPs 계산\n",
        "flops = calculate_flops(model, input_size)\n",
        "\n",
        "# 결과 출력\n",
        "print(f\"Total FLOPs: {flops.total() / 1e6:.2f} MFLOPs\")  # FLOPs를 MegaFLOPs 단위로 변환\n",
        "print(flop_count_table(flops))"
      ],
      "metadata": {
        "colab": {
          "base_uri": "https://localhost:8080/"
        },
        "id": "toScrl-NhrJt",
        "outputId": "ae2ca80f-1bd9-4296-febf-d497ba30f2c1"
      },
      "execution_count": 25,
      "outputs": [
        {
          "output_type": "stream",
          "name": "stderr",
          "text": [
            "WARNING:fvcore.nn.jit_analysis:Unsupported operator aten::max_pool1d encountered 2 time(s)\n"
          ]
        },
        {
          "output_type": "stream",
          "name": "stdout",
          "text": [
            "Total FLOPs: 8.22 MFLOPs\n",
            "| module         | #parameters or shape   | #flops   |\n",
            "|:---------------|:-----------------------|:---------|\n",
            "| model          | 8.146M                 | 8.218M   |\n",
            "|  conv1         |  0.102K                |  24K     |\n",
            "|   conv1.weight |   (6, 1, 16)           |          |\n",
            "|   conv1.bias   |   (6,)                 |          |\n",
            "|  conv2         |  57                    |  6.642K  |\n",
            "|   conv2.weight |   (3, 6, 3)            |          |\n",
            "|   conv2.bias   |   (3,)                 |          |\n",
            "|  conv3         |  96                    |  10.71K  |\n",
            "|   conv3.weight |   (6, 3, 5)            |          |\n",
            "|   conv3.bias   |   (6,)                 |          |\n",
            "|  conv4         |  0.341K                |  37.95K  |\n",
            "|   conv4.weight |   (11, 6, 5)           |          |\n",
            "|   conv4.bias   |   (11,)                |          |\n",
            "|  fc1           |  3.14M                 |  3.135M  |\n",
            "|   fc1.weight   |   (5000, 627)          |          |\n",
            "|   fc1.bias     |   (5000,)              |          |\n",
            "|  fc2           |  5.001M                |  5M      |\n",
            "|   fc2.weight   |   (1000, 5000)         |          |\n",
            "|   fc2.bias     |   (1000,)              |          |\n",
            "|  fc3           |  4.004K                |  4K      |\n",
            "|   fc3.weight   |   (4, 1000)            |          |\n",
            "|   fc3.bias     |   (4,)                 |          |\n"
          ]
        }
      ]
    },
    {
      "cell_type": "code",
      "source": [
        "# F1 스코어 계산\n",
        "def calculate_f1_score(model, loader, device):\n",
        "    model.eval()\n",
        "    all_labels = []\n",
        "    all_predictions = []\n",
        "    with torch.no_grad():\n",
        "        for inputs, labels in loader:\n",
        "            inputs, labels = inputs.to(device), labels.to(device)\n",
        "            outputs = model(inputs)\n",
        "            _, predicted = torch.max(outputs, 1)\n",
        "            all_labels.extend(labels.cpu().numpy())\n",
        "            all_predictions.extend(predicted.cpu().numpy())\n",
        "    f1 = f1_score(all_labels, all_predictions, average='weighted')\n",
        "    print(f\"F1 Score: {f1:.4f}\")"
      ],
      "metadata": {
        "id": "ujtBbTHJq-qB"
      },
      "execution_count": 26,
      "outputs": []
    },
    {
      "cell_type": "code",
      "source": [
        "print(\"\\nCalculating F1 Score...\")\n",
        "calculate_f1_score(model, test_loader, device)"
      ],
      "metadata": {
        "colab": {
          "base_uri": "https://localhost:8080/"
        },
        "id": "DBeBBoeBhrMN",
        "outputId": "d8dc046e-59f7-44fe-d385-a9168414faaf"
      },
      "execution_count": 27,
      "outputs": [
        {
          "output_type": "stream",
          "name": "stdout",
          "text": [
            "\n",
            "Calculating F1 Score...\n",
            "F1 Score: 0.9282\n"
          ]
        }
      ]
    },
    {
      "cell_type": "code",
      "source": [
        "# 파라미터 수 계산 함수\n",
        "def calculate_total_params(model):\n",
        "    total_params = sum(p.numel() for p in model.parameters() if p.requires_grad)\n",
        "    print(f\"Total Parameters: {total_params:,}\")"
      ],
      "metadata": {
        "id": "0aYitoNNhrO1"
      },
      "execution_count": 28,
      "outputs": []
    },
    {
      "cell_type": "code",
      "source": [
        "print(\"\\nCalculating Total Parameters...\")\n",
        "calculate_total_params(model)"
      ],
      "metadata": {
        "colab": {
          "base_uri": "https://localhost:8080/"
        },
        "id": "cWMPipBrhrRd",
        "outputId": "ba77ba05-bcb4-4cc5-dbc6-e7dd23e3858f"
      },
      "execution_count": 29,
      "outputs": [
        {
          "output_type": "stream",
          "name": "stdout",
          "text": [
            "\n",
            "Calculating Total Parameters...\n",
            "Total Parameters: 8,145,600\n"
          ]
        }
      ]
    },
    {
      "cell_type": "code",
      "source": [
        "# 자원 제한 설정 함수\n",
        "def setup_limited_resources(cpu_only=True, num_threads=2):\n",
        "    if cpu_only:\n",
        "        device = torch.device(\"cpu\")\n",
        "    else:\n",
        "        device = torch.device(\"cuda\" if torch.cuda.is_available() else \"cpu\")\n",
        "\n",
        "    # CPU 환경일 경우 스레드 수 제한\n",
        "    if device.type == \"cpu\":\n",
        "        torch.set_num_threads(num_threads)\n",
        "        print(f\"CPU 환경: 스레드 수를 {num_threads}개로 제한합니다.\")\n",
        "    else:\n",
        "        print(f\"GPU 환경: {torch.cuda.get_device_name(0)} 사용 중.\")\n",
        "\n",
        "    return device"
      ],
      "metadata": {
        "id": "fEgRuJT_hrUA"
      },
      "execution_count": 30,
      "outputs": []
    },
    {
      "cell_type": "code",
      "source": [
        "# 추론 시간 측정 함수\n",
        "def measure_inference_time(model, input_data, device, iterations=100):\n",
        "    model.eval()\n",
        "    model.to(device)\n",
        "    input_data = input_data.to(device)\n",
        "\n",
        "    # 추론 시간 측정\n",
        "    with torch.no_grad():\n",
        "        start_time = time.time()\n",
        "        for _ in range(iterations):\n",
        "            _ = model(input_data)\n",
        "        end_time = time.time()\n",
        "\n",
        "    avg_time = (end_time - start_time) / iterations\n",
        "    print(f\"Average Inference Time: {avg_time * 1000:.2f} ms\")\n",
        "    return avg_time"
      ],
      "metadata": {
        "id": "cOFZJZ9KhrWd"
      },
      "execution_count": 31,
      "outputs": []
    },
    {
      "cell_type": "code",
      "source": [
        "# 1. 모델 저장\n",
        "torch.save(model, \"trained_model.pth\")\n",
        "print(\"Model saved as 'trained_model.pth'\")\n",
        "\n",
        "# 2. CPU 환경 설정\n",
        "device_cpu = setup_limited_resources(cpu_only=True, num_threads=2)\n",
        "\n",
        "# 3. 모델 로드\n",
        "model = torch.load(\"trained_model.pth\", map_location=device_cpu)\n",
        "model.to(device_cpu)\n",
        "model.eval()\n",
        "print(\"Model loaded and moved to CPU.\")"
      ],
      "metadata": {
        "colab": {
          "base_uri": "https://localhost:8080/"
        },
        "id": "lPHs91FihrY-",
        "outputId": "d9e0a7ea-8cf5-4c33-bee3-034fa0c30e40"
      },
      "execution_count": 32,
      "outputs": [
        {
          "output_type": "stream",
          "name": "stdout",
          "text": [
            "Model saved as 'trained_model.pth'\n",
            "CPU 환경: 스레드 수를 2개로 제한합니다.\n",
            "Model loaded and moved to CPU.\n"
          ]
        },
        {
          "output_type": "stream",
          "name": "stderr",
          "text": [
            "<ipython-input-32-4ead0fe69395>:9: FutureWarning: You are using `torch.load` with `weights_only=False` (the current default value), which uses the default pickle module implicitly. It is possible to construct malicious pickle data which will execute arbitrary code during unpickling (See https://github.com/pytorch/pytorch/blob/main/SECURITY.md#untrusted-models for more details). In a future release, the default value for `weights_only` will be flipped to `True`. This limits the functions that could be executed during unpickling. Arbitrary objects will no longer be allowed to be loaded via this mode unless they are explicitly allowlisted by the user via `torch.serialization.add_safe_globals`. We recommend you start setting `weights_only=True` for any use case where you don't have full control of the loaded file. Please open an issue on GitHub for any issues related to this experimental feature.\n",
            "  model = torch.load(\"trained_model.pth\", map_location=device_cpu)\n"
          ]
        }
      ]
    },
    {
      "cell_type": "code",
      "source": [
        "# 데이터 로더에서 샘플 데이터 가져오기\n",
        "for input_data, _ in test_loader:\n",
        "    break  # 첫 번째 배치만 가져옴\n",
        "\n",
        "# 배치에서 첫 번째 샘플 선택 (배치 크기 1로 설정)\n",
        "input_data = input_data[0:1].to(device_cpu)"
      ],
      "metadata": {
        "id": "27InZzj1hrbd"
      },
      "execution_count": 33,
      "outputs": []
    },
    {
      "cell_type": "code",
      "source": [
        "# 5. 제한된 환경에서 추론 시간 측정\n",
        "print(\"\\nMeasuring Inference Time on CPU...\")\n",
        "measure_inference_time(model, input_data, device_cpu, iterations=100)"
      ],
      "metadata": {
        "colab": {
          "base_uri": "https://localhost:8080/"
        },
        "id": "NfpLoCJxhrd3",
        "outputId": "4a0874bd-4e61-4990-89e9-48b3f27f5e99"
      },
      "execution_count": 34,
      "outputs": [
        {
          "output_type": "stream",
          "name": "stdout",
          "text": [
            "\n",
            "Measuring Inference Time on CPU...\n",
            "Average Inference Time: 7.67 ms\n"
          ]
        },
        {
          "output_type": "execute_result",
          "data": {
            "text/plain": [
              "0.007674643993377686"
            ]
          },
          "metadata": {},
          "execution_count": 34
        }
      ]
    },
    {
      "cell_type": "code",
      "source": [],
      "metadata": {
        "id": "f2mhba_2hrgl"
      },
      "execution_count": 34,
      "outputs": []
    },
    {
      "cell_type": "code",
      "source": [],
      "metadata": {
        "id": "PV1InSTmhrjN"
      },
      "execution_count": 34,
      "outputs": []
    },
    {
      "cell_type": "code",
      "source": [],
      "metadata": {
        "id": "hNKY2W-2hrlw"
      },
      "execution_count": 34,
      "outputs": []
    },
    {
      "cell_type": "code",
      "source": [],
      "metadata": {
        "id": "GV5l6JjphroN"
      },
      "execution_count": 34,
      "outputs": []
    },
    {
      "cell_type": "code",
      "source": [],
      "metadata": {
        "id": "rvlmzusYhrq2"
      },
      "execution_count": 34,
      "outputs": []
    },
    {
      "cell_type": "code",
      "source": [],
      "metadata": {
        "id": "ySSSih6DhrtU"
      },
      "execution_count": 34,
      "outputs": []
    },
    {
      "cell_type": "code",
      "source": [],
      "metadata": {
        "id": "qqTzMnGehrvu"
      },
      "execution_count": 34,
      "outputs": []
    },
    {
      "cell_type": "code",
      "source": [],
      "metadata": {
        "id": "T8qb4z5QhryV"
      },
      "execution_count": 34,
      "outputs": []
    },
    {
      "cell_type": "code",
      "source": [],
      "metadata": {
        "id": "rzRUyZMEhr01"
      },
      "execution_count": 34,
      "outputs": []
    }
  ]
}