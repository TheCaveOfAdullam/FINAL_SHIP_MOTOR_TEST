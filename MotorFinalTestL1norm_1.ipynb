{
  "nbformat": 4,
  "nbformat_minor": 0,
  "metadata": {
    "colab": {
      "provenance": [],
      "gpuType": "T4",
      "authorship_tag": "ABX9TyP7zNHAZSCwnnHLY9xsFiiK",
      "include_colab_link": true
    },
    "kernelspec": {
      "name": "python3",
      "display_name": "Python 3"
    },
    "language_info": {
      "name": "python"
    },
    "accelerator": "GPU"
  },
  "cells": [
    {
      "cell_type": "markdown",
      "metadata": {
        "id": "view-in-github",
        "colab_type": "text"
      },
      "source": [
        "<a href=\"https://colab.research.google.com/github/TheCaveOfAdullam/FINAL_SHIP_MOTOR_TEST/blob/main/MotorFinalTestL1norm_1.ipynb\" target=\"_parent\"><img src=\"https://colab.research.google.com/assets/colab-badge.svg\" alt=\"Open In Colab\"/></a>"
      ]
    },
    {
      "cell_type": "code",
      "execution_count": 1,
      "metadata": {
        "colab": {
          "base_uri": "https://localhost:8080/"
        },
        "id": "A3BRGAy5k42q",
        "outputId": "15b38544-ce9b-4450-d3d5-972f0e996f50"
      },
      "outputs": [
        {
          "output_type": "stream",
          "name": "stdout",
          "text": [
            "Mounted at /content/drive\n"
          ]
        }
      ],
      "source": [
        "from google.colab import drive\n",
        "drive.mount('/content/drive')"
      ]
    },
    {
      "cell_type": "code",
      "source": [
        "!pip install torch_pruning\n",
        "!pip install ptflops\n",
        "!pip install fvcore"
      ],
      "metadata": {
        "colab": {
          "base_uri": "https://localhost:8080/"
        },
        "id": "tv6Z-ITZlASP",
        "outputId": "04418914-89ca-4a62-e283-a7eaca2c5700"
      },
      "execution_count": 2,
      "outputs": [
        {
          "output_type": "stream",
          "name": "stdout",
          "text": [
            "Collecting torch_pruning\n",
            "  Downloading torch_pruning-1.5.0-py3-none-any.whl.metadata (29 kB)\n",
            "Requirement already satisfied: torch in /usr/local/lib/python3.10/dist-packages (from torch_pruning) (2.5.1+cu121)\n",
            "Requirement already satisfied: numpy in /usr/local/lib/python3.10/dist-packages (from torch_pruning) (1.26.4)\n",
            "Requirement already satisfied: filelock in /usr/local/lib/python3.10/dist-packages (from torch->torch_pruning) (3.16.1)\n",
            "Requirement already satisfied: typing-extensions>=4.8.0 in /usr/local/lib/python3.10/dist-packages (from torch->torch_pruning) (4.12.2)\n",
            "Requirement already satisfied: networkx in /usr/local/lib/python3.10/dist-packages (from torch->torch_pruning) (3.4.2)\n",
            "Requirement already satisfied: jinja2 in /usr/local/lib/python3.10/dist-packages (from torch->torch_pruning) (3.1.4)\n",
            "Requirement already satisfied: fsspec in /usr/local/lib/python3.10/dist-packages (from torch->torch_pruning) (2024.10.0)\n",
            "Requirement already satisfied: sympy==1.13.1 in /usr/local/lib/python3.10/dist-packages (from torch->torch_pruning) (1.13.1)\n",
            "Requirement already satisfied: mpmath<1.4,>=1.1.0 in /usr/local/lib/python3.10/dist-packages (from sympy==1.13.1->torch->torch_pruning) (1.3.0)\n",
            "Requirement already satisfied: MarkupSafe>=2.0 in /usr/local/lib/python3.10/dist-packages (from jinja2->torch->torch_pruning) (3.0.2)\n",
            "Downloading torch_pruning-1.5.0-py3-none-any.whl (63 kB)\n",
            "\u001b[2K   \u001b[90m━━━━━━━━━━━━━━━━━━━━━━━━━━━━━━━━━━━━━━━━\u001b[0m \u001b[32m63.7/63.7 kB\u001b[0m \u001b[31m3.6 MB/s\u001b[0m eta \u001b[36m0:00:00\u001b[0m\n",
            "\u001b[?25hInstalling collected packages: torch_pruning\n",
            "Successfully installed torch_pruning-1.5.0\n",
            "Collecting ptflops\n",
            "  Downloading ptflops-0.7.4-py3-none-any.whl.metadata (9.4 kB)\n",
            "Requirement already satisfied: torch>=2.0 in /usr/local/lib/python3.10/dist-packages (from ptflops) (2.5.1+cu121)\n",
            "Requirement already satisfied: filelock in /usr/local/lib/python3.10/dist-packages (from torch>=2.0->ptflops) (3.16.1)\n",
            "Requirement already satisfied: typing-extensions>=4.8.0 in /usr/local/lib/python3.10/dist-packages (from torch>=2.0->ptflops) (4.12.2)\n",
            "Requirement already satisfied: networkx in /usr/local/lib/python3.10/dist-packages (from torch>=2.0->ptflops) (3.4.2)\n",
            "Requirement already satisfied: jinja2 in /usr/local/lib/python3.10/dist-packages (from torch>=2.0->ptflops) (3.1.4)\n",
            "Requirement already satisfied: fsspec in /usr/local/lib/python3.10/dist-packages (from torch>=2.0->ptflops) (2024.10.0)\n",
            "Requirement already satisfied: sympy==1.13.1 in /usr/local/lib/python3.10/dist-packages (from torch>=2.0->ptflops) (1.13.1)\n",
            "Requirement already satisfied: mpmath<1.4,>=1.1.0 in /usr/local/lib/python3.10/dist-packages (from sympy==1.13.1->torch>=2.0->ptflops) (1.3.0)\n",
            "Requirement already satisfied: MarkupSafe>=2.0 in /usr/local/lib/python3.10/dist-packages (from jinja2->torch>=2.0->ptflops) (3.0.2)\n",
            "Downloading ptflops-0.7.4-py3-none-any.whl (19 kB)\n",
            "Installing collected packages: ptflops\n",
            "Successfully installed ptflops-0.7.4\n",
            "Collecting fvcore\n",
            "  Downloading fvcore-0.1.5.post20221221.tar.gz (50 kB)\n",
            "\u001b[2K     \u001b[90m━━━━━━━━━━━━━━━━━━━━━━━━━━━━━━━━━━━━━━━━\u001b[0m \u001b[32m50.2/50.2 kB\u001b[0m \u001b[31m3.3 MB/s\u001b[0m eta \u001b[36m0:00:00\u001b[0m\n",
            "\u001b[?25h  Preparing metadata (setup.py) ... \u001b[?25l\u001b[?25hdone\n",
            "Requirement already satisfied: numpy in /usr/local/lib/python3.10/dist-packages (from fvcore) (1.26.4)\n",
            "Collecting yacs>=0.1.6 (from fvcore)\n",
            "  Downloading yacs-0.1.8-py3-none-any.whl.metadata (639 bytes)\n",
            "Requirement already satisfied: pyyaml>=5.1 in /usr/local/lib/python3.10/dist-packages (from fvcore) (6.0.2)\n",
            "Requirement already satisfied: tqdm in /usr/local/lib/python3.10/dist-packages (from fvcore) (4.66.6)\n",
            "Requirement already satisfied: termcolor>=1.1 in /usr/local/lib/python3.10/dist-packages (from fvcore) (2.5.0)\n",
            "Requirement already satisfied: Pillow in /usr/local/lib/python3.10/dist-packages (from fvcore) (11.0.0)\n",
            "Requirement already satisfied: tabulate in /usr/local/lib/python3.10/dist-packages (from fvcore) (0.9.0)\n",
            "Collecting iopath>=0.1.7 (from fvcore)\n",
            "  Downloading iopath-0.1.10.tar.gz (42 kB)\n",
            "\u001b[2K     \u001b[90m━━━━━━━━━━━━━━━━━━━━━━━━━━━━━━━━━━━━━━━━\u001b[0m \u001b[32m42.2/42.2 kB\u001b[0m \u001b[31m4.1 MB/s\u001b[0m eta \u001b[36m0:00:00\u001b[0m\n",
            "\u001b[?25h  Preparing metadata (setup.py) ... \u001b[?25l\u001b[?25hdone\n",
            "Requirement already satisfied: typing_extensions in /usr/local/lib/python3.10/dist-packages (from iopath>=0.1.7->fvcore) (4.12.2)\n",
            "Collecting portalocker (from iopath>=0.1.7->fvcore)\n",
            "  Downloading portalocker-3.0.0-py3-none-any.whl.metadata (8.5 kB)\n",
            "Downloading yacs-0.1.8-py3-none-any.whl (14 kB)\n",
            "Downloading portalocker-3.0.0-py3-none-any.whl (19 kB)\n",
            "Building wheels for collected packages: fvcore, iopath\n",
            "  Building wheel for fvcore (setup.py) ... \u001b[?25l\u001b[?25hdone\n",
            "  Created wheel for fvcore: filename=fvcore-0.1.5.post20221221-py3-none-any.whl size=61396 sha256=05dc07cf4af9798051efb78a39c61e785e143ea893f0f12a634928b7006a2e3c\n",
            "  Stored in directory: /root/.cache/pip/wheels/01/c0/af/77c1cf53a1be9e42a52b48e5af2169d40ec2e89f7362489dd0\n",
            "  Building wheel for iopath (setup.py) ... \u001b[?25l\u001b[?25hdone\n",
            "  Created wheel for iopath: filename=iopath-0.1.10-py3-none-any.whl size=31528 sha256=aa7ffbfafec86eec729d91495c31af9d048b826bd8524f3b5ec080ccd759ea2a\n",
            "  Stored in directory: /root/.cache/pip/wheels/9a/a3/b6/ac0fcd1b4ed5cfeb3db92e6a0e476cfd48ed0df92b91080c1d\n",
            "Successfully built fvcore iopath\n",
            "Installing collected packages: yacs, portalocker, iopath, fvcore\n",
            "Successfully installed fvcore-0.1.5.post20221221 iopath-0.1.10 portalocker-3.0.0 yacs-0.1.8\n"
          ]
        }
      ]
    },
    {
      "cell_type": "code",
      "source": [
        "import os\n",
        "import numpy as np\n",
        "import pandas as pd\n",
        "import torch\n",
        "import torch.nn as nn\n",
        "import torch.optim as optim\n",
        "from torch.utils.data import DataLoader, Dataset\n",
        "from sklearn.preprocessing import LabelEncoder\n",
        "from sklearn.metrics import f1_score, confusion_matrix\n",
        "import torch.nn.utils.prune as prune\n",
        "import torch_pruning as tp\n",
        "import matplotlib.pyplot as plt\n",
        "import seaborn as sns\n",
        "from collections import defaultdict\n",
        "from tqdm import tqdm\n",
        "from ptflops import get_model_complexity_info\n",
        "import time\n",
        "import random"
      ],
      "metadata": {
        "id": "bWvW-j0ilAZW"
      },
      "execution_count": 3,
      "outputs": []
    },
    {
      "cell_type": "code",
      "source": [
        "seed = 50\n",
        "torch.manual_seed(seed)\n",
        "torch.cuda.manual_seed_all(seed)  # GPU 사용 시\n",
        "np.random.seed(seed)\n",
        "random.seed(seed)\n",
        "\n",
        "torch.backends.cudnn.deterministic = True\n",
        "torch.backends.cudnn.benchmark = False"
      ],
      "metadata": {
        "id": "uUEBv4zWp14g"
      },
      "execution_count": 4,
      "outputs": []
    },
    {
      "cell_type": "code",
      "source": [
        "# 기본 경로 설정\n",
        "base_dir = '/content/drive/MyDrive/ship_motor30'\n",
        "categories = ['normal', 'fault_BB', 'fault_RI', 'fault_SM']\n",
        "device = torch.device(\"cuda\" if torch.cuda.is_available() else \"cpu\")\n",
        "\n",
        "# 데이터 로드 및 전처리 함수 정의\n",
        "class VibrationDataset(Dataset):\n",
        "    def __init__(self, base_dir, split, categories, label_encoder, segment_length=4000, transform=None):\n",
        "        self.X = []\n",
        "        self.y = []\n",
        "        self.transform = transform\n",
        "        self.segment_length = segment_length\n",
        "        self.file_count = defaultdict(int)  # 카테고리별 파일 개수를 저장할 딕셔너리\n",
        "\n",
        "        split_dir = os.path.join(base_dir, split)\n",
        "        for category in categories:\n",
        "            category_dir = os.path.join(split_dir, category)\n",
        "            files = os.listdir(category_dir)\n",
        "            self.file_count[category] = len(files)  # 카테고리별 파일 수 저장\n",
        "\n",
        "            for file in files:\n",
        "                file_path = os.path.join(category_dir, file)\n",
        "                data = pd.read_csv(file_path, header=None, skiprows=1)  # 첫 행 건너뜀\n",
        "\n",
        "                # 첫 번째 열(시간 데이터)을 제외하고 주파수 데이터만 선택\n",
        "                frequency_data = data.iloc[:, 1:].apply(pd.to_numeric, errors='coerce').fillna(0).values\n",
        "\n",
        "                # 데이터를 세그먼트로 분할\n",
        "                num_segments = frequency_data.shape[0] // self.segment_length\n",
        "                for i in range(num_segments):\n",
        "                    segment = frequency_data[i * self.segment_length:(i + 1) * self.segment_length]\n",
        "                    self.X.append(segment)  # 주파수 데이터만 포함\n",
        "                    self.y.append(label_encoder.transform([category])[0])\n",
        "\n",
        "        # 카테고리별 파일 개수 출력\n",
        "        print(f\"File count for '{split}' split:\")\n",
        "        for category, count in self.file_count.items():\n",
        "            print(f\"  {category}: {count} files\")\n",
        "\n",
        "    def __len__(self):\n",
        "        return len(self.X)\n",
        "\n",
        "    def __getitem__(self, idx):\n",
        "        X = self.X[idx].T  # 2D 입력 (채널, 길이)로 변경\n",
        "        y = self.y[idx]\n",
        "        return torch.tensor(X, dtype=torch.float32), torch.tensor(y, dtype=torch.long)\n",
        "\n",
        "# 레이블 인코딩\n",
        "label_encoder = LabelEncoder()\n",
        "label_encoder.fit(categories)\n",
        "\n",
        "# 데이터셋 준비\n",
        "train_dataset = VibrationDataset(base_dir, 'train', categories, label_encoder)\n",
        "val_dataset = VibrationDataset(base_dir, 'validation', categories, label_encoder)\n",
        "test_dataset = VibrationDataset(base_dir, 'test', categories, label_encoder)\n",
        "\n",
        "# 데이터 로더\n",
        "batch_size = 32\n",
        "train_loader = DataLoader(train_dataset, batch_size=batch_size, shuffle=True)\n",
        "val_loader = DataLoader(val_dataset, batch_size=batch_size, shuffle=False)\n",
        "test_loader = DataLoader(test_dataset, batch_size=batch_size, shuffle=False)\n",
        "\n",
        "# 첫 번째 데이터의 크기를 이용해 input_length 결정\n",
        "first_sample, _ = train_dataset[0]\n",
        "input_length = first_sample.shape[1]  # X는 (채널, 길이) 형태이므로 길이는 첫 번째 데이터의 두 번째 차원\n",
        "print(f\"Input length for one sample: {input_length}\")"
      ],
      "metadata": {
        "colab": {
          "base_uri": "https://localhost:8080/"
        },
        "id": "YfaYwgBelAb-",
        "outputId": "d9c3a367-12cc-44ab-a7ba-a5ce0d7c11ee"
      },
      "execution_count": 5,
      "outputs": [
        {
          "output_type": "stream",
          "name": "stdout",
          "text": [
            "File count for 'train' split:\n",
            "  normal: 2100 files\n",
            "  fault_BB: 2100 files\n",
            "  fault_RI: 2100 files\n",
            "  fault_SM: 2100 files\n",
            "File count for 'validation' split:\n",
            "  normal: 450 files\n",
            "  fault_BB: 450 files\n",
            "  fault_RI: 450 files\n",
            "  fault_SM: 450 files\n",
            "File count for 'test' split:\n",
            "  normal: 450 files\n",
            "  fault_BB: 450 files\n",
            "  fault_RI: 450 files\n",
            "  fault_SM: 450 files\n",
            "Input length for one sample: 4000\n"
          ]
        }
      ]
    },
    {
      "cell_type": "code",
      "source": [
        "# CNN 모델 정의\n",
        "class CNNModel(nn.Module):\n",
        "    def __init__(self, input_length):\n",
        "        super(CNNModel, self).__init__()\n",
        "        self.conv1 = nn.Conv1d(in_channels=1, out_channels=64, kernel_size=16, stride=16)  # 입력 채널을 1로 수정\n",
        "        self.pool1 = nn.MaxPool1d(kernel_size=2, stride=2)\n",
        "        self.conv2 = nn.Conv1d(in_channels=64, out_channels=32, kernel_size=3, stride=1)\n",
        "        self.conv3 = nn.Conv1d(in_channels=32, out_channels=64, kernel_size=5, stride=1)\n",
        "        self.conv4 = nn.Conv1d(in_channels=64, out_channels=128, kernel_size=5, stride=1)\n",
        "        self.pool2 = nn.MaxPool1d(kernel_size=2, stride=2)\n",
        "\n",
        "        # 출력 크기 계산\n",
        "        with torch.no_grad():\n",
        "            sample_input = torch.zeros(1, 1, input_length)  # 1은 입력 채널 수\n",
        "            sample_output = self.forward_conv_layers(sample_input)\n",
        "            conv_output_size = sample_output.size(1) * sample_output.size(2)\n",
        "\n",
        "        self.fc1 = nn.Linear(conv_output_size, 5000)\n",
        "        #self.dropout = nn.Dropout(0.5)\n",
        "        self.fc2 = nn.Linear(5000, 1000)\n",
        "        self.fc3 = nn.Linear(1000, len(categories))\n",
        "\n",
        "    def forward_conv_layers(self, x):\n",
        "        x = self.pool1(torch.relu(self.conv1(x)))\n",
        "        x = torch.relu(self.conv2(x))\n",
        "        x = torch.relu(self.conv3(x))\n",
        "        x = self.pool2(torch.relu(self.conv4(x)))\n",
        "        return x\n",
        "\n",
        "    def forward(self, x):\n",
        "        x = self.forward_conv_layers(x)\n",
        "        x = x.view(x.size(0), -1)  # Flattening\n",
        "        x = torch.relu(self.fc1(x))\n",
        "        #x = self.dropout(x)\n",
        "        x = torch.relu(self.fc2(x))\n",
        "        x = self.fc3(x)\n",
        "        return x"
      ],
      "metadata": {
        "id": "LaSuLQEglAe3"
      },
      "execution_count": 6,
      "outputs": []
    },
    {
      "cell_type": "code",
      "source": [
        "# 모델 학습 함수 (학습 곡선 기록 추가)\n",
        "def train_model(model, train_loader, val_loader, criterion, optimizer, num_epochs=5, max_norm=1.0):\n",
        "    model.to(device)\n",
        "\n",
        "    train_losses = []\n",
        "    val_losses = []\n",
        "    train_accuracies = []\n",
        "    val_accuracies = []\n",
        "\n",
        "    for epoch in range(num_epochs):\n",
        "        model.train()\n",
        "        running_loss = 0.0\n",
        "        correct = 0\n",
        "        total = 0\n",
        "\n",
        "        train_loader_iter = tqdm(train_loader, desc=f\"Epoch {epoch+1}/{num_epochs}\", unit=\"batch\")\n",
        "\n",
        "        for inputs, labels in train_loader_iter:\n",
        "            inputs, labels = inputs.to(device), labels.to(device)\n",
        "            optimizer.zero_grad()\n",
        "            outputs = model(inputs)\n",
        "            loss = criterion(outputs, labels)\n",
        "            loss.backward()\n",
        "\n",
        "            # Gradient clipping\n",
        "            torch.nn.utils.clip_grad_norm_(model.parameters(), max_norm)\n",
        "            optimizer.step()\n",
        "\n",
        "            running_loss += loss.item()\n",
        "            _, predicted = torch.max(outputs, 1)\n",
        "            total += labels.size(0)\n",
        "            correct += (predicted == labels).sum().item()\n",
        "            train_loader_iter.set_postfix(loss=loss.item(), accuracy=100 * correct / total)\n",
        "\n",
        "        train_loss = running_loss / len(train_loader)\n",
        "        train_accuracy = 100 * correct / total\n",
        "        train_losses.append(train_loss)\n",
        "        train_accuracies.append(train_accuracy)\n",
        "\n",
        "        val_loss, val_accuracy = evaluate_model(model, val_loader, criterion)\n",
        "        val_losses.append(val_loss)\n",
        "        val_accuracies.append(val_accuracy)\n",
        "\n",
        "        print(f'Epoch [{epoch+1}/{num_epochs}], Loss: {train_loss:.4f}, Accuracy: {train_accuracy:.2f}%, '\n",
        "              f'Val Loss: {val_loss:.4f}, Val Accuracy: {val_accuracy:.2f}%')\n",
        "\n",
        "    # 학습 곡선 시각화\n",
        "    plt.figure(figsize=(12, 5))\n",
        "    plt.subplot(1, 2, 1)\n",
        "    plt.plot(range(1, num_epochs + 1), train_losses, label='Train Loss')\n",
        "    plt.plot(range(1, num_epochs + 1), val_losses, label='Validation Loss')\n",
        "    plt.xlabel('Epochs')\n",
        "    plt.ylabel('Loss')\n",
        "    plt.title('Training and Validation Loss')\n",
        "    plt.legend()\n",
        "\n",
        "    plt.subplot(1, 2, 2)\n",
        "    plt.plot(range(1, num_epochs + 1), train_accuracies, label='Train Accuracy')\n",
        "    plt.plot(range(1, num_epochs + 1), val_accuracies, label='Validation Accuracy')\n",
        "    plt.xlabel('Epochs')\n",
        "    plt.ylabel('Accuracy (%)')\n",
        "    plt.title('Training and Validation Accuracy')\n",
        "    plt.legend()\n",
        "\n",
        "    plt.show()\n",
        "\n",
        "    return model\n",
        "\n",
        "# 모델 평가 함수\n",
        "def evaluate_model(model, loader, criterion):\n",
        "    model.eval()\n",
        "    val_loss = 0.0\n",
        "    correct = 0\n",
        "    total = 0\n",
        "    with torch.no_grad():\n",
        "        for inputs, labels in loader:\n",
        "            inputs, labels = inputs.to(device), labels.to(device)\n",
        "            outputs = model(inputs)\n",
        "            loss = criterion(outputs, labels)\n",
        "            val_loss += loss.item()  # 배치 손실의 합\n",
        "            _, predicted = torch.max(outputs, 1)\n",
        "            total += labels.size(0)\n",
        "            correct += (predicted == labels).sum().item()\n",
        "\n",
        "    # 평균 손실은 배치 개수로 나눔\n",
        "    average_val_loss = val_loss / len(loader)  # len(loader)는 배치 개수\n",
        "    val_accuracy = 100 * correct / total\n",
        "\n",
        "    return average_val_loss, val_accuracy"
      ],
      "metadata": {
        "id": "AVkYPizVlAhu"
      },
      "execution_count": 7,
      "outputs": []
    },
    {
      "cell_type": "code",
      "source": [
        "# 모델 초기화 및 학습 설정\n",
        "model = CNNModel(input_length=input_length)\n",
        "criterion = nn.CrossEntropyLoss()\n",
        "optimizer = optim.Adam(model.parameters(), lr=0.00001, weight_decay=1e-5)"
      ],
      "metadata": {
        "id": "dj3I_NEvlAkO"
      },
      "execution_count": 8,
      "outputs": []
    },
    {
      "cell_type": "code",
      "source": [
        "def detect_and_apply_l1_norm_pruning_for_filters(model, prune_ratio=0.5, example_inputs=None):\n",
        "    if example_inputs is None:\n",
        "        example_inputs = torch.randn(1, 1, input_length).to(next(model.parameters()).device)  # 입력 예제\n",
        "\n",
        "    DG = tp.DependencyGraph().build_dependency(model, example_inputs=example_inputs)\n",
        "    total_pruned = 0\n",
        "\n",
        "    for name, module in model.named_modules():\n",
        "        if isinstance(module, nn.Conv1d):  # Conv1D 레이어만 대상으로 설정\n",
        "            # L1-노름 계산\n",
        "            weight_data = module.weight.detach().cpu().numpy()\n",
        "            l1_norm_scores = np.sum(np.abs(weight_data), axis=(1, 2))  # (out_channels, in_channels, kernel_size)\n",
        "\n",
        "            # 중요도가 낮은 필터 선택\n",
        "            num_filters = len(l1_norm_scores)\n",
        "            num_pruned = int(prune_ratio * num_filters)\n",
        "            prune_indices = np.argsort(l1_norm_scores)[:num_pruned]  # L1-노름 낮은 순으로 선택\n",
        "\n",
        "            # 프루닝 대상 필터 제거\n",
        "            if len(prune_indices) > 0 and len(prune_indices) < module.weight.shape[0]:\n",
        "                pruning_group = DG.get_pruning_group(module, tp.prune_conv_out_channels, idxs=prune_indices)\n",
        "\n",
        "                if pruning_group is not None:\n",
        "                    pruning_group.prune()\n",
        "                    total_pruned += len(prune_indices)\n",
        "                    print(f\"Pruned {len(prune_indices)} filters from {name}.\")\n",
        "            else:\n",
        "                print(f\"Skipping pruning for {name} as it would remove all filters.\")\n",
        "\n",
        "    print(f\"L1-norm-based filter pruning applied. {total_pruned} filters pruned in total.\")\n",
        "    return model"
      ],
      "metadata": {
        "id": "vNGmxdVwlAmv"
      },
      "execution_count": 9,
      "outputs": []
    },
    {
      "cell_type": "code",
      "source": [
        "train_model(model, train_loader, val_loader, criterion, optimizer, num_epochs=5)"
      ],
      "metadata": {
        "colab": {
          "base_uri": "https://localhost:8080/",
          "height": 866
        },
        "id": "O40Y6Nc8lApY",
        "outputId": "3b79d10c-2d32-4f9d-cf31-5b31fe07486b"
      },
      "execution_count": 10,
      "outputs": [
        {
          "output_type": "stream",
          "name": "stderr",
          "text": [
            "Epoch 1/5: 100%|██████████| 788/788 [00:29<00:00, 26.32batch/s, accuracy=24.7, loss=1.38]\n"
          ]
        },
        {
          "output_type": "stream",
          "name": "stdout",
          "text": [
            "Epoch [1/5], Loss: 1.3865, Accuracy: 24.70%, Val Loss: 1.3863, Val Accuracy: 25.00%\n"
          ]
        },
        {
          "output_type": "stream",
          "name": "stderr",
          "text": [
            "Epoch 2/5: 100%|██████████| 788/788 [00:28<00:00, 27.93batch/s, accuracy=31, loss=1.3]\n"
          ]
        },
        {
          "output_type": "stream",
          "name": "stdout",
          "text": [
            "Epoch [2/5], Loss: 1.3784, Accuracy: 31.04%, Val Loss: 1.3238, Val Accuracy: 74.31%\n"
          ]
        },
        {
          "output_type": "stream",
          "name": "stderr",
          "text": [
            "Epoch 3/5: 100%|██████████| 788/788 [00:28<00:00, 28.04batch/s, accuracy=57.5, loss=0.847]\n"
          ]
        },
        {
          "output_type": "stream",
          "name": "stdout",
          "text": [
            "Epoch [3/5], Loss: 1.0113, Accuracy: 57.48%, Val Loss: 0.7813, Val Accuracy: 75.00%\n"
          ]
        },
        {
          "output_type": "stream",
          "name": "stderr",
          "text": [
            "Epoch 4/5: 100%|██████████| 788/788 [00:28<00:00, 27.91batch/s, accuracy=81.8, loss=0.593]\n"
          ]
        },
        {
          "output_type": "stream",
          "name": "stdout",
          "text": [
            "Epoch [4/5], Loss: 0.6910, Accuracy: 81.84%, Val Loss: 0.6348, Val Accuracy: 71.43%\n"
          ]
        },
        {
          "output_type": "stream",
          "name": "stderr",
          "text": [
            "Epoch 5/5: 100%|██████████| 788/788 [00:28<00:00, 27.98batch/s, accuracy=88.5, loss=0.401]\n"
          ]
        },
        {
          "output_type": "stream",
          "name": "stdout",
          "text": [
            "Epoch [5/5], Loss: 0.5153, Accuracy: 88.52%, Val Loss: 0.4145, Val Accuracy: 92.06%\n"
          ]
        },
        {
          "output_type": "display_data",
          "data": {
            "text/plain": [
              "<Figure size 1200x500 with 2 Axes>"
            ],
            "image/png": "[encoded data removed]"
          },
          "metadata": {}
        },
        {
          "output_type": "execute_result",
          "data": {
            "text/plain": [
              "CNNModel(\n",
              "  (conv1): Conv1d(1, 64, kernel_size=(16,), stride=(16,))\n",
              "  (pool1): MaxPool1d(kernel_size=2, stride=2, padding=0, dilation=1, ceil_mode=False)\n",
              "  (conv2): Conv1d(64, 32, kernel_size=(3,), stride=(1,))\n",
              "  (conv3): Conv1d(32, 64, kernel_size=(5,), stride=(1,))\n",
              "  (conv4): Conv1d(64, 128, kernel_size=(5,), stride=(1,))\n",
              "  (pool2): MaxPool1d(kernel_size=2, stride=2, padding=0, dilation=1, ceil_mode=False)\n",
              "  (fc1): Linear(in_features=7296, out_features=5000, bias=True)\n",
              "  (fc2): Linear(in_features=5000, out_features=1000, bias=True)\n",
              "  (fc3): Linear(in_features=1000, out_features=4, bias=True)\n",
              ")"
            ]
          },
          "metadata": {},
          "execution_count": 10
        }
      ]
    },
    {
      "cell_type": "code",
      "source": [
        "prune_ratio = 0.70  # 필터의 50% 제거\n",
        "model.eval()  # 프루닝은 eval 모드에서 수행\n",
        "model = detect_and_apply_l1_norm_pruning_for_filters(model, prune_ratio=prune_ratio)\n",
        "\n",
        "print(\"L1-norm-based filter pruning completed.\")"
      ],
      "metadata": {
        "colab": {
          "base_uri": "https://localhost:8080/"
        },
        "id": "-j1pAUC7lArw",
        "outputId": "95a65a66-03d5-4abe-8043-07523a57eae2"
      },
      "execution_count": 11,
      "outputs": [
        {
          "output_type": "stream",
          "name": "stdout",
          "text": [
            "Pruned 44 filters from conv1.\n",
            "Pruned 22 filters from conv2.\n",
            "Pruned 44 filters from conv3.\n",
            "Pruned 89 filters from conv4.\n",
            "L1-norm-based filter pruning applied. 199 filters pruned in total.\n",
            "L1-norm-based filter pruning completed.\n"
          ]
        }
      ]
    },
    {
      "cell_type": "code",
      "source": [
        "train_model(model, train_loader, val_loader, criterion, optimizer, num_epochs=15)"
      ],
      "metadata": {
        "colab": {
          "base_uri": "https://localhost:8080/",
          "height": 1000
        },
        "id": "pzoPMf50lAuO",
        "outputId": "a69853b0-3091-4100-a0ac-73167eb44b5e"
      },
      "execution_count": 12,
      "outputs": [
        {
          "output_type": "stream",
          "name": "stderr",
          "text": [
            "Epoch 1/15: 100%|██████████| 788/788 [00:08<00:00, 95.71batch/s, accuracy=37.6, loss=1.16]\n"
          ]
        },
        {
          "output_type": "stream",
          "name": "stdout",
          "text": [
            "Epoch [1/15], Loss: 1.5055, Accuracy: 37.58%, Val Loss: 1.1202, Val Accuracy: 50.00%\n"
          ]
        },
        {
          "output_type": "stream",
          "name": "stderr",
          "text": [
            "Epoch 2/15: 100%|██████████| 788/788 [00:08<00:00, 91.54batch/s, accuracy=50.5, loss=0.968]\n"
          ]
        },
        {
          "output_type": "stream",
          "name": "stdout",
          "text": [
            "Epoch [2/15], Loss: 1.0432, Accuracy: 50.50%, Val Loss: 0.9709, Val Accuracy: 50.09%\n"
          ]
        },
        {
          "output_type": "stream",
          "name": "stderr",
          "text": [
            "Epoch 3/15: 100%|██████████| 788/788 [00:08<00:00, 95.31batch/s, accuracy=54.2, loss=0.913]\n"
          ]
        },
        {
          "output_type": "stream",
          "name": "stdout",
          "text": [
            "Epoch [3/15], Loss: 0.9155, Accuracy: 54.17%, Val Loss: 0.8646, Val Accuracy: 61.72%\n"
          ]
        },
        {
          "output_type": "stream",
          "name": "stderr",
          "text": [
            "Epoch 4/15: 100%|██████████| 788/788 [00:08<00:00, 92.67batch/s, accuracy=62.6, loss=0.662] \n"
          ]
        },
        {
          "output_type": "stream",
          "name": "stdout",
          "text": [
            "Epoch [4/15], Loss: 0.8287, Accuracy: 62.60%, Val Loss: 0.7923, Val Accuracy: 59.89%\n"
          ]
        },
        {
          "output_type": "stream",
          "name": "stderr",
          "text": [
            "Epoch 5/15: 100%|██████████| 788/788 [00:08<00:00, 92.35batch/s, accuracy=73.4, loss=0.797]\n"
          ]
        },
        {
          "output_type": "stream",
          "name": "stdout",
          "text": [
            "Epoch [5/15], Loss: 0.7642, Accuracy: 73.41%, Val Loss: 0.7320, Val Accuracy: 77.93%\n"
          ]
        },
        {
          "output_type": "stream",
          "name": "stderr",
          "text": [
            "Epoch 6/15: 100%|██████████| 788/788 [00:08<00:00, 95.89batch/s, accuracy=81.1, loss=0.623]\n"
          ]
        },
        {
          "output_type": "stream",
          "name": "stdout",
          "text": [
            "Epoch [6/15], Loss: 0.7104, Accuracy: 81.11%, Val Loss: 0.6840, Val Accuracy: 83.93%\n"
          ]
        },
        {
          "output_type": "stream",
          "name": "stderr",
          "text": [
            "Epoch 7/15: 100%|██████████| 788/788 [00:08<00:00, 90.27batch/s, accuracy=83.9, loss=0.785]\n"
          ]
        },
        {
          "output_type": "stream",
          "name": "stdout",
          "text": [
            "Epoch [7/15], Loss: 0.6651, Accuracy: 83.90%, Val Loss: 0.6387, Val Accuracy: 81.46%\n"
          ]
        },
        {
          "output_type": "stream",
          "name": "stderr",
          "text": [
            "Epoch 8/15: 100%|██████████| 788/788 [00:08<00:00, 95.18batch/s, accuracy=85.9, loss=0.581]\n"
          ]
        },
        {
          "output_type": "stream",
          "name": "stdout",
          "text": [
            "Epoch [8/15], Loss: 0.6250, Accuracy: 85.88%, Val Loss: 0.5995, Val Accuracy: 91.69%\n"
          ]
        },
        {
          "output_type": "stream",
          "name": "stderr",
          "text": [
            "Epoch 9/15: 100%|██████████| 788/788 [00:08<00:00, 92.40batch/s, accuracy=90.4, loss=0.582]\n"
          ]
        },
        {
          "output_type": "stream",
          "name": "stdout",
          "text": [
            "Epoch [9/15], Loss: 0.5875, Accuracy: 90.35%, Val Loss: 0.5648, Val Accuracy: 91.20%\n"
          ]
        },
        {
          "output_type": "stream",
          "name": "stderr",
          "text": [
            "Epoch 10/15: 100%|██████████| 788/788 [00:08<00:00, 92.42batch/s, accuracy=90.4, loss=0.572]\n"
          ]
        },
        {
          "output_type": "stream",
          "name": "stdout",
          "text": [
            "Epoch [10/15], Loss: 0.5536, Accuracy: 90.40%, Val Loss: 0.5338, Val Accuracy: 77.39%\n"
          ]
        },
        {
          "output_type": "stream",
          "name": "stderr",
          "text": [
            "Epoch 11/15: 100%|██████████| 788/788 [00:08<00:00, 95.24batch/s, accuracy=89, loss=0.535] \n"
          ]
        },
        {
          "output_type": "stream",
          "name": "stdout",
          "text": [
            "Epoch [11/15], Loss: 0.5225, Accuracy: 88.99%, Val Loss: 0.5049, Val Accuracy: 94.26%\n"
          ]
        },
        {
          "output_type": "stream",
          "name": "stderr",
          "text": [
            "Epoch 12/15: 100%|██████████| 788/788 [00:08<00:00, 91.18batch/s, accuracy=91.5, loss=0.449] \n"
          ]
        },
        {
          "output_type": "stream",
          "name": "stdout",
          "text": [
            "Epoch [12/15], Loss: 0.4944, Accuracy: 91.48%, Val Loss: 0.4750, Val Accuracy: 91.70%\n"
          ]
        },
        {
          "output_type": "stream",
          "name": "stderr",
          "text": [
            "Epoch 13/15: 100%|██████████| 788/788 [00:08<00:00, 95.08batch/s, accuracy=91.6, loss=0.364]\n"
          ]
        },
        {
          "output_type": "stream",
          "name": "stdout",
          "text": [
            "Epoch [13/15], Loss: 0.4680, Accuracy: 91.63%, Val Loss: 0.4501, Val Accuracy: 92.85%\n"
          ]
        },
        {
          "output_type": "stream",
          "name": "stderr",
          "text": [
            "Epoch 14/15: 100%|██████████| 788/788 [00:08<00:00, 91.49batch/s, accuracy=92.3, loss=0.412]\n"
          ]
        },
        {
          "output_type": "stream",
          "name": "stdout",
          "text": [
            "Epoch [14/15], Loss: 0.4439, Accuracy: 92.31%, Val Loss: 0.4265, Val Accuracy: 93.13%\n"
          ]
        },
        {
          "output_type": "stream",
          "name": "stderr",
          "text": [
            "Epoch 15/15: 100%|██████████| 788/788 [00:08<00:00, 89.64batch/s, accuracy=94.2, loss=0.402]\n"
          ]
        },
        {
          "output_type": "stream",
          "name": "stdout",
          "text": [
            "Epoch [15/15], Loss: 0.4231, Accuracy: 94.18%, Val Loss: 0.4063, Val Accuracy: 94.20%\n"
          ]
        },
        {
          "output_type": "display_data",
          "data": {
            "text/plain": [
              "<Figure size 1200x500 with 2 Axes>"
            ],
            "image/png": "[encoded data removed]"
          },
          "metadata": {}
        },
        {
          "output_type": "execute_result",
          "data": {
            "text/plain": [
              "CNNModel(\n",
              "  (conv1): Conv1d(1, 20, kernel_size=(16,), stride=(16,))\n",
              "  (pool1): MaxPool1d(kernel_size=2, stride=2, padding=0, dilation=1, ceil_mode=False)\n",
              "  (conv2): Conv1d(20, 10, kernel_size=(3,), stride=(1,))\n",
              "  (conv3): Conv1d(10, 20, kernel_size=(5,), stride=(1,))\n",
              "  (conv4): Conv1d(20, 39, kernel_size=(5,), stride=(1,))\n",
              "  (pool2): MaxPool1d(kernel_size=2, stride=2, padding=0, dilation=1, ceil_mode=False)\n",
              "  (fc1): Linear(in_features=2223, out_features=5000, bias=True)\n",
              "  (fc2): Linear(in_features=5000, out_features=1000, bias=True)\n",
              "  (fc3): Linear(in_features=1000, out_features=4, bias=True)\n",
              ")"
            ]
          },
          "metadata": {},
          "execution_count": 12
        }
      ]
    },
    {
      "cell_type": "code",
      "source": [
        "# 최종 테스트 평가\n",
        "print(\"Final evaluation on the test set...\")\n",
        "test_loss, test_accuracy = evaluate_model(model, test_loader, criterion)\n",
        "print(f'Final Test Loss: {test_loss:.4f}, Final Test Accuracy: {test_accuracy:.2f}%')"
      ],
      "metadata": {
        "colab": {
          "base_uri": "https://localhost:8080/"
        },
        "id": "YywxQ7Tymgwe",
        "outputId": "1bd663c7-bf1b-45ca-e8c4-d26d853106b7"
      },
      "execution_count": 13,
      "outputs": [
        {
          "output_type": "stream",
          "name": "stdout",
          "text": [
            "Final evaluation on the test set...\n",
            "Final Test Loss: 0.4112, Final Test Accuracy: 93.44%\n"
          ]
        }
      ]
    },
    {
      "cell_type": "code",
      "source": [
        "# 모델 평가 함수 (혼동 행렬 포함)\n",
        "def evaluate_model(model, loader, criterion):\n",
        "    model.eval()\n",
        "    val_loss = 0.0\n",
        "    correct = 0\n",
        "    total = 0\n",
        "    all_labels = []\n",
        "    all_predictions = []\n",
        "\n",
        "    with torch.no_grad():\n",
        "        for inputs, labels in loader:\n",
        "            inputs, labels = inputs.to(device), labels.to(device)\n",
        "            outputs = model(inputs)\n",
        "            loss = criterion(outputs, labels)\n",
        "            val_loss += loss.item()\n",
        "\n",
        "            _, predicted = torch.max(outputs, 1)\n",
        "            total += labels.size(0)\n",
        "            correct += (predicted == labels).sum().item()\n",
        "\n",
        "            all_labels.extend(labels.cpu().numpy())\n",
        "            all_predictions.extend(predicted.cpu().numpy())\n",
        "\n",
        "    # 혼동 행렬 계산\n",
        "    conf_matrix = confusion_matrix(all_labels, all_predictions)\n",
        "    accuracy = 100 * correct / total\n",
        "    return val_loss / total, accuracy, conf_matrix"
      ],
      "metadata": {
        "id": "iLFw-JuRBGxp"
      },
      "execution_count": 14,
      "outputs": []
    },
    {
      "cell_type": "code",
      "source": [
        "# 혼동 행렬 시각화 함수\n",
        "def plot_confusion_matrix(conf_matrix, label_encoder):\n",
        "    categories = label_encoder.classes_  # LabelEncoder의 순서대로 클래스 레이블을 가져옴\n",
        "    plt.figure(figsize=(8, 6))\n",
        "    sns.heatmap(conf_matrix, annot=True, fmt=\"d\", cmap=\"Blues\", xticklabels=categories, yticklabels=categories)\n",
        "    plt.xlabel(\"Predicted Labels\")\n",
        "    plt.ylabel(\"True Labels\")\n",
        "    plt.title(\"Confusion Matrix\")\n",
        "    plt.show()\n",
        "\n",
        "# 평가 및 시각화 예시\n",
        "val_loss, val_accuracy, val_conf_matrix = evaluate_model(model, val_loader, criterion)\n",
        "print(f\"Validation Loss: {val_loss:.4f}\")\n",
        "print(f\"Validation Accuracy: {val_accuracy:.2f}%\")\n",
        "print(\"Confusion Matrix:\")\n",
        "print(val_conf_matrix)\n",
        "\n",
        "# 혼동 행렬 시각화\n",
        "plot_confusion_matrix(val_conf_matrix, label_encoder)"
      ],
      "metadata": {
        "colab": {
          "base_uri": "https://localhost:8080/",
          "height": 692
        },
        "id": "ZSD-sS4RBG4A",
        "outputId": "b9439e71-5f3a-43c0-fdd8-00ed9d3fed3a"
      },
      "execution_count": 15,
      "outputs": [
        {
          "output_type": "stream",
          "name": "stdout",
          "text": [
            "Validation Loss: 0.0127\n",
            "Validation Accuracy: 94.20%\n",
            "Confusion Matrix:\n",
            "[[1088    0  153  109]\n",
            " [   0 1350    0    0]\n",
            " [  51    0 1299    0]\n",
            " [   0    0    0 1350]]\n"
          ]
        },
        {
          "output_type": "display_data",
          "data": {
            "text/plain": [
              "<Figure size 800x600 with 2 Axes>"
            ],
            "image/png": "[encoded data removed]"
          },
          "metadata": {}
        }
      ]
    },
    {
      "cell_type": "code",
      "source": [
        "# 모델 구조 출력\n",
        "print(model)\n",
        "\n",
        "# 입력 데이터로 테스트\n",
        "test_input = torch.randn(1, 1, input_length).to(next(model.parameters()).device)\n",
        "output = model(test_input)\n",
        "print(f\"Output shape: {output.shape}\")"
      ],
      "metadata": {
        "colab": {
          "base_uri": "https://localhost:8080/"
        },
        "id": "KGsH6AJTlAw2",
        "outputId": "4c562a66-52ba-43f5-b3d4-0ea54edf70a6"
      },
      "execution_count": 16,
      "outputs": [
        {
          "output_type": "stream",
          "name": "stdout",
          "text": [
            "CNNModel(\n",
            "  (conv1): Conv1d(1, 20, kernel_size=(16,), stride=(16,))\n",
            "  (pool1): MaxPool1d(kernel_size=2, stride=2, padding=0, dilation=1, ceil_mode=False)\n",
            "  (conv2): Conv1d(20, 10, kernel_size=(3,), stride=(1,))\n",
            "  (conv3): Conv1d(10, 20, kernel_size=(5,), stride=(1,))\n",
            "  (conv4): Conv1d(20, 39, kernel_size=(5,), stride=(1,))\n",
            "  (pool2): MaxPool1d(kernel_size=2, stride=2, padding=0, dilation=1, ceil_mode=False)\n",
            "  (fc1): Linear(in_features=2223, out_features=5000, bias=True)\n",
            "  (fc2): Linear(in_features=5000, out_features=1000, bias=True)\n",
            "  (fc3): Linear(in_features=1000, out_features=4, bias=True)\n",
            ")\n",
            "Output shape: torch.Size([1, 4])\n"
          ]
        }
      ]
    },
    {
      "cell_type": "code",
      "source": [
        "def get_model_size(model):\n",
        "    param_size = 0\n",
        "    for param in model.parameters():\n",
        "        param_size += param.nelement() * param.element_size()\n",
        "    buffer_size = 0\n",
        "    for buffer in model.buffers():\n",
        "        buffer_size += buffer.nelement() * buffer.element_size()\n",
        "\n",
        "    model_size = (param_size + buffer_size) / 1024**2  # Convert to MB\n",
        "\n",
        "    if model_size < 1:\n",
        "        return model_size * 1024  # Convert to KB if size is less than 1MB\n",
        "    return model_size"
      ],
      "metadata": {
        "id": "wBvKj_ZQlAzl"
      },
      "execution_count": 17,
      "outputs": []
    },
    {
      "cell_type": "code",
      "source": [
        "model_size = get_model_size(model)\n",
        "\n",
        "if model_size < 1:\n",
        "    print(f'Model size: {model_size * 1024:.2f} KB')\n",
        "else:\n",
        "    print(f'Model size: {model_size:.2f} MB')"
      ],
      "metadata": {
        "colab": {
          "base_uri": "https://localhost:8080/"
        },
        "id": "Hcp8qVkQlA2O",
        "outputId": "caf99d95-2567-4475-dc4e-2ba5a0a87c82"
      },
      "execution_count": 18,
      "outputs": [
        {
          "output_type": "stream",
          "name": "stdout",
          "text": [
            "Model size: 61.53 MB\n"
          ]
        }
      ]
    },
    {
      "cell_type": "code",
      "source": [
        "# 모델 저장\n",
        "torch.save(model.state_dict(), \"pruned_model.pth\")\n",
        "\n",
        "# 파일 크기 확인\n",
        "file_size = os.path.getsize(\"pruned_model.pth\") / 1024**2  # MB로 변환\n",
        "print(f\"모델 크기: {file_size:.2f} MB\")"
      ],
      "metadata": {
        "colab": {
          "base_uri": "https://localhost:8080/"
        },
        "id": "olD0GHA2mqi2",
        "outputId": "451c8053-dbe6-4f14-e974-53b65f072154"
      },
      "execution_count": 19,
      "outputs": [
        {
          "output_type": "stream",
          "name": "stdout",
          "text": [
            "모델 크기: 61.54 MB\n"
          ]
        }
      ]
    },
    {
      "cell_type": "code",
      "source": [
        "# F1 스코어 계산\n",
        "def calculate_f1_score(model, loader, device):\n",
        "    model.eval()\n",
        "    all_labels = []\n",
        "    all_predictions = []\n",
        "    with torch.no_grad():\n",
        "        for inputs, labels in loader:\n",
        "            inputs, labels = inputs.to(device), labels.to(device)\n",
        "            outputs = model(inputs)\n",
        "            _, predicted = torch.max(outputs, 1)\n",
        "            all_labels.extend(labels.cpu().numpy())\n",
        "            all_predictions.extend(predicted.cpu().numpy())\n",
        "    f1 = f1_score(all_labels, all_predictions, average='weighted')\n",
        "    print(f\"F1 Score: {f1:.4f}\")"
      ],
      "metadata": {
        "id": "buq4v6bQlA42"
      },
      "execution_count": 20,
      "outputs": []
    },
    {
      "cell_type": "code",
      "source": [
        "# 비제로 가중치 계산 함수\n",
        "def count_nonzero_weights(model):\n",
        "    nonzero_count = 0\n",
        "    total_count = 0\n",
        "    for name, param in model.named_parameters():\n",
        "        if param.requires_grad:\n",
        "            nonzero_count += torch.sum(param != 0).item()  # 0이 아닌 가중치 수 계산\n",
        "            total_count += param.numel()  # 전체 가중치 수 계산\n",
        "    return nonzero_count, total_count\n",
        "\n",
        "# 비제로 가중치 수 계산\n",
        "nonzero_weights, total_weights = count_nonzero_weights(model)\n",
        "print(f\"Number of non-zero weights: {nonzero_weights}\")\n",
        "print(f\"Total number of weights: {total_weights}\")\n",
        "print(f\"Percentage of non-zero weights: {100 * nonzero_weights / total_weights:.2f}%\")"
      ],
      "metadata": {
        "colab": {
          "base_uri": "https://localhost:8080/"
        },
        "id": "-WFuHxb2lA7P",
        "outputId": "d90c3d7c-c93b-4141-82da-a7e55d2e0036"
      },
      "execution_count": 21,
      "outputs": [
        {
          "output_type": "stream",
          "name": "stdout",
          "text": [
            "Number of non-zero weights: 16130913\n",
            "Total number of weights: 16130913\n",
            "Percentage of non-zero weights: 100.00%\n"
          ]
        }
      ]
    },
    {
      "cell_type": "code",
      "source": [
        "from fvcore.nn import FlopCountAnalysis, flop_count_table\n",
        "\n",
        "# FLOPs 계산 함수\n",
        "def calculate_flops(model, input_size):\n",
        "    model.eval()  # 평가 모드로 전환\n",
        "    dummy_input = torch.randn(*input_size).to(device)  # 가짜 입력 생성\n",
        "    flops = FlopCountAnalysis(model, dummy_input)\n",
        "    return flops\n",
        "\n",
        "# 입력 크기 정의 (배치 크기, 채널, 길이)\n",
        "input_size = (1, 1, input_length)  # 배치 크기 1, 채널 1, input_length 사용\n",
        "\n",
        "# FLOPs 계산\n",
        "flops = calculate_flops(model, input_size)\n",
        "\n",
        "# 결과 출력\n",
        "print(f\"Total FLOPs: {flops.total() / 1e6:.2f} MFLOPs\")  # FLOPs를 MegaFLOPs 단위로 변환\n",
        "print(flop_count_table(flops))"
      ],
      "metadata": {
        "colab": {
          "base_uri": "https://localhost:8080/"
        },
        "id": "1SZKGC-OlA92",
        "outputId": "e058bd8b-1212-4112-b805-66b8015a265e"
      },
      "execution_count": 22,
      "outputs": [
        {
          "output_type": "stream",
          "name": "stderr",
          "text": [
            "WARNING:fvcore.nn.jit_analysis:Unsupported operator aten::max_pool1d encountered 2 time(s)\n"
          ]
        },
        {
          "output_type": "stream",
          "name": "stdout",
          "text": [
            "Total FLOPs: 16.84 MFLOPs\n",
            "| module         | #parameters or shape   | #flops   |\n",
            "|:---------------|:-----------------------|:---------|\n",
            "| model          | 16.131M                | 16.84M   |\n",
            "|  conv1         |  0.34K                 |  80K     |\n",
            "|   conv1.weight |   (20, 1, 16)          |          |\n",
            "|   conv1.bias   |   (20,)                |          |\n",
            "|  conv2         |  0.61K                 |  73.8K   |\n",
            "|   conv2.weight |   (10, 20, 3)          |          |\n",
            "|   conv2.bias   |   (10,)                |          |\n",
            "|  conv3         |  1.02K                 |  0.119M  |\n",
            "|   conv3.weight |   (20, 10, 5)          |          |\n",
            "|   conv3.bias   |   (20,)                |          |\n",
            "|  conv4         |  3.939K                |  0.449M  |\n",
            "|   conv4.weight |   (39, 20, 5)          |          |\n",
            "|   conv4.bias   |   (39,)                |          |\n",
            "|  fc1           |  11.12M                |  11.115M |\n",
            "|   fc1.weight   |   (5000, 2223)         |          |\n",
            "|   fc1.bias     |   (5000,)              |          |\n",
            "|  fc2           |  5.001M                |  5M      |\n",
            "|   fc2.weight   |   (1000, 5000)         |          |\n",
            "|   fc2.bias     |   (1000,)              |          |\n",
            "|  fc3           |  4.004K                |  4K      |\n",
            "|   fc3.weight   |   (4, 1000)            |          |\n",
            "|   fc3.bias     |   (4,)                 |          |\n"
          ]
        }
      ]
    },
    {
      "cell_type": "code",
      "source": [
        "print(\"\\nCalculating F1 Score...\")\n",
        "calculate_f1_score(model, test_loader, device)"
      ],
      "metadata": {
        "colab": {
          "base_uri": "https://localhost:8080/"
        },
        "id": "6XYE_BXelBAe",
        "outputId": "1a6d4626-1ed5-4f12-ea07-4d7e5dde7a8c"
      },
      "execution_count": 23,
      "outputs": [
        {
          "output_type": "stream",
          "name": "stdout",
          "text": [
            "\n",
            "Calculating F1 Score...\n",
            "F1 Score: 0.9324\n"
          ]
        }
      ]
    },
    {
      "cell_type": "code",
      "source": [
        "# 파라미터 수 계산 함수\n",
        "def calculate_total_params(model):\n",
        "    total_params = sum(p.numel() for p in model.parameters() if p.requires_grad)\n",
        "    print(f\"Total Parameters: {total_params:,}\")"
      ],
      "metadata": {
        "id": "fOaS7KD7mvPw"
      },
      "execution_count": 24,
      "outputs": []
    },
    {
      "cell_type": "code",
      "source": [
        "print(\"\\nCalculating Total Parameters...\")\n",
        "calculate_total_params(model)"
      ],
      "metadata": {
        "colab": {
          "base_uri": "https://localhost:8080/"
        },
        "id": "bTOmfJQemvRv",
        "outputId": "90036bf3-78bf-4f3e-8b12-c96bc8c6df8d"
      },
      "execution_count": 25,
      "outputs": [
        {
          "output_type": "stream",
          "name": "stdout",
          "text": [
            "\n",
            "Calculating Total Parameters...\n",
            "Total Parameters: 16,130,913\n"
          ]
        }
      ]
    },
    {
      "cell_type": "code",
      "source": [
        "# 자원 제한 설정 함수\n",
        "def setup_limited_resources(cpu_only=True, num_threads=2):\n",
        "    if cpu_only:\n",
        "        device = torch.device(\"cpu\")\n",
        "    else:\n",
        "        device = torch.device(\"cuda\" if torch.cuda.is_available() else \"cpu\")\n",
        "\n",
        "    # CPU 환경일 경우 스레드 수 제한\n",
        "    if device.type == \"cpu\":\n",
        "        torch.set_num_threads(num_threads)\n",
        "        print(f\"CPU 환경: 스레드 수를 {num_threads}개로 제한합니다.\")\n",
        "    else:\n",
        "        print(f\"GPU 환경: {torch.cuda.get_device_name(0)} 사용 중.\")\n",
        "\n",
        "    return device"
      ],
      "metadata": {
        "id": "ZhI1OfqsmvUH"
      },
      "execution_count": 26,
      "outputs": []
    },
    {
      "cell_type": "code",
      "source": [
        "# 추론 시간 측정 함수\n",
        "def measure_inference_time(model, input_data, device, iterations=100):\n",
        "    model.eval()\n",
        "    model.to(device)\n",
        "    input_data = input_data.to(device)\n",
        "\n",
        "    # 추론 시간 측정\n",
        "    with torch.no_grad():\n",
        "        start_time = time.time()\n",
        "        for _ in range(iterations):\n",
        "            _ = model(input_data)\n",
        "        end_time = time.time()\n",
        "\n",
        "    avg_time = (end_time - start_time) / iterations\n",
        "    print(f\"Average Inference Time: {avg_time * 1000:.2f} ms\")\n",
        "    return avg_time"
      ],
      "metadata": {
        "id": "DAWdoUaHmvWm"
      },
      "execution_count": 27,
      "outputs": []
    },
    {
      "cell_type": "code",
      "source": [
        "# 1. 모델 저장\n",
        "torch.save(model, \"trained_model.pth\")\n",
        "print(\"Model saved as 'trained_model.pth'\")\n",
        "\n",
        "# 2. CPU 환경 설정\n",
        "device_cpu = setup_limited_resources(cpu_only=True, num_threads=2)\n",
        "\n",
        "# 3. 모델 로드\n",
        "model = torch.load(\"trained_model.pth\", map_location=device_cpu)\n",
        "model.to(device_cpu)\n",
        "model.eval()\n",
        "print(\"Model loaded and moved to CPU.\")"
      ],
      "metadata": {
        "colab": {
          "base_uri": "https://localhost:8080/"
        },
        "id": "PNK2Bye2mvZO",
        "outputId": "aa5b264d-f828-4639-b676-2e0ecc03a3d0"
      },
      "execution_count": 28,
      "outputs": [
        {
          "output_type": "stream",
          "name": "stdout",
          "text": [
            "Model saved as 'trained_model.pth'\n",
            "CPU 환경: 스레드 수를 2개로 제한합니다.\n",
            "Model loaded and moved to CPU.\n"
          ]
        },
        {
          "output_type": "stream",
          "name": "stderr",
          "text": [
            "<ipython-input-28-4ead0fe69395>:9: FutureWarning: You are using `torch.load` with `weights_only=False` (the current default value), which uses the default pickle module implicitly. It is possible to construct malicious pickle data which will execute arbitrary code during unpickling (See https://github.com/pytorch/pytorch/blob/main/SECURITY.md#untrusted-models for more details). In a future release, the default value for `weights_only` will be flipped to `True`. This limits the functions that could be executed during unpickling. Arbitrary objects will no longer be allowed to be loaded via this mode unless they are explicitly allowlisted by the user via `torch.serialization.add_safe_globals`. We recommend you start setting `weights_only=True` for any use case where you don't have full control of the loaded file. Please open an issue on GitHub for any issues related to this experimental feature.\n",
            "  model = torch.load(\"trained_model.pth\", map_location=device_cpu)\n"
          ]
        }
      ]
    },
    {
      "cell_type": "code",
      "source": [
        "# 데이터 로더에서 샘플 데이터 가져오기\n",
        "for input_data, _ in test_loader:\n",
        "    break  # 첫 번째 배치만 가져옴\n",
        "\n",
        "# 배치에서 첫 번째 샘플 선택 (배치 크기 1로 설정)\n",
        "input_data = input_data[0:1].to(device_cpu)"
      ],
      "metadata": {
        "id": "IDgIqWDlmvbi"
      },
      "execution_count": 29,
      "outputs": []
    },
    {
      "cell_type": "code",
      "source": [
        "# 5. 제한된 환경에서 추론 시간 측정\n",
        "print(\"\\nMeasuring Inference Time on CPU...\")\n",
        "measure_inference_time(model, input_data, device_cpu, iterations=100)"
      ],
      "metadata": {
        "colab": {
          "base_uri": "https://localhost:8080/"
        },
        "id": "5y-faISzlBDK",
        "outputId": "cf62a6c8-2647-4ee6-bb70-f841668e18be"
      },
      "execution_count": 30,
      "outputs": [
        {
          "output_type": "stream",
          "name": "stdout",
          "text": [
            "\n",
            "Measuring Inference Time on CPU...\n",
            "Average Inference Time: 9.83 ms\n"
          ]
        },
        {
          "output_type": "execute_result",
          "data": {
            "text/plain": [
              "0.009832518100738525"
            ]
          },
          "metadata": {},
          "execution_count": 30
        }
      ]
    },
    {
      "cell_type": "code",
      "source": [],
      "metadata": {
        "id": "xdPkpsLklBFh"
      },
      "execution_count": 30,
      "outputs": []
    },
    {
      "cell_type": "code",
      "source": [],
      "metadata": {
        "id": "NYsOhjLglBIO"
      },
      "execution_count": 30,
      "outputs": []
    }
  ]
}